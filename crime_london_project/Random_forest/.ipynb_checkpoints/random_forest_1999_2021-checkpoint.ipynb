{
 "cells": [
  {
   "cell_type": "code",
   "execution_count": 11,
   "id": "cf4ba55b-4bd2-4caa-a868-00cdc8777e93",
   "metadata": {},
   "outputs": [],
   "source": [
    "# Import the necessary packages\n",
    "import pandas as pd\n",
    "from sklearn.ensemble import RandomForestRegressor\n",
    "from sklearn.model_selection import train_test_split\n",
    "import time\n",
    "import matplotlib.pyplot as plt\n",
    "import plotly.express as px\n",
    "from sklearn.model_selection import cross_val_score\n",
    "from sklearn.metrics import roc_curve\n",
    "import seaborn as sns\n",
    "import plotly.io as pio\n",
    "import numpy as np"
   ]
  },
  {
   "cell_type": "code",
   "execution_count": 6,
   "id": "9927cb13-3fa0-4d78-98f3-35981970a907",
   "metadata": {},
   "outputs": [
    {
     "data": {
      "text/html": [
       "<div>\n",
       "<style scoped>\n",
       "    .dataframe tbody tr th:only-of-type {\n",
       "        vertical-align: middle;\n",
       "    }\n",
       "\n",
       "    .dataframe tbody tr th {\n",
       "        vertical-align: top;\n",
       "    }\n",
       "\n",
       "    .dataframe thead th {\n",
       "        text-align: right;\n",
       "    }\n",
       "</style>\n",
       "<table border=\"1\" class=\"dataframe\">\n",
       "  <thead>\n",
       "    <tr style=\"text-align: right;\">\n",
       "      <th></th>\n",
       "      <th>Borough</th>\n",
       "      <th>Year</th>\n",
       "      <th>Crime rate</th>\n",
       "      <th>Primary &amp; Utilities</th>\n",
       "      <th>Manufacturing</th>\n",
       "      <th>Construction</th>\n",
       "      <th>Wholesale</th>\n",
       "      <th>Retail</th>\n",
       "      <th>Transportation and Storage</th>\n",
       "      <th>Accomodation and food service activities</th>\n",
       "      <th>...</th>\n",
       "      <th>Population per hectare</th>\n",
       "      <th>Life expectancy of men at 65</th>\n",
       "      <th>Life expectancy of women at 65</th>\n",
       "      <th>% of Public sector jobs</th>\n",
       "      <th>% of Private sector jobs</th>\n",
       "      <th>Proportion of seats won by Conservatives</th>\n",
       "      <th>Proportion of seats won by Labour</th>\n",
       "      <th>Proportion of seats won by Liberal Democrats</th>\n",
       "      <th>Consumer expenditure on Alcoholic beverages (£mn)</th>\n",
       "      <th>Consumer expenditure on Pubs and Wine bars (£mn)</th>\n",
       "    </tr>\n",
       "  </thead>\n",
       "  <tbody>\n",
       "    <tr>\n",
       "      <th>0</th>\n",
       "      <td>Barking and Dagenham</td>\n",
       "      <td>1999</td>\n",
       "      <td>120.5</td>\n",
       "      <td>0.815000</td>\n",
       "      <td>30.797000</td>\n",
       "      <td>4.529000</td>\n",
       "      <td>7.246000</td>\n",
       "      <td>8.152000</td>\n",
       "      <td>9.058000</td>\n",
       "      <td>4.076000</td>\n",
       "      <td>...</td>\n",
       "      <td>45.0</td>\n",
       "      <td>16.289474</td>\n",
       "      <td>19.384211</td>\n",
       "      <td>20.490909</td>\n",
       "      <td>79.509091</td>\n",
       "      <td>0.0</td>\n",
       "      <td>100.0</td>\n",
       "      <td>0.0</td>\n",
       "      <td>19.793610</td>\n",
       "      <td>30.920531</td>\n",
       "    </tr>\n",
       "    <tr>\n",
       "      <th>1</th>\n",
       "      <td>Barnet</td>\n",
       "      <td>1999</td>\n",
       "      <td>98.0</td>\n",
       "      <td>0.694000</td>\n",
       "      <td>4.337000</td>\n",
       "      <td>4.337000</td>\n",
       "      <td>7.806000</td>\n",
       "      <td>15.611000</td>\n",
       "      <td>4.337000</td>\n",
       "      <td>6.938000</td>\n",
       "      <td>...</td>\n",
       "      <td>36.1</td>\n",
       "      <td>18.847368</td>\n",
       "      <td>21.410526</td>\n",
       "      <td>18.445455</td>\n",
       "      <td>81.554545</td>\n",
       "      <td>50.8</td>\n",
       "      <td>47.6</td>\n",
       "      <td>1.6</td>\n",
       "      <td>60.159765</td>\n",
       "      <td>114.874726</td>\n",
       "    </tr>\n",
       "    <tr>\n",
       "      <th>2</th>\n",
       "      <td>Bexley</td>\n",
       "      <td>1999</td>\n",
       "      <td>95.1</td>\n",
       "      <td>2.596000</td>\n",
       "      <td>11.869000</td>\n",
       "      <td>6.677000</td>\n",
       "      <td>7.418000</td>\n",
       "      <td>13.353000</td>\n",
       "      <td>3.338000</td>\n",
       "      <td>5.935000</td>\n",
       "      <td>...</td>\n",
       "      <td>35.9</td>\n",
       "      <td>17.915789</td>\n",
       "      <td>20.700000</td>\n",
       "      <td>16.381818</td>\n",
       "      <td>83.618182</td>\n",
       "      <td>71.4</td>\n",
       "      <td>23.8</td>\n",
       "      <td>0.0</td>\n",
       "      <td>23.477447</td>\n",
       "      <td>36.044944</td>\n",
       "    </tr>\n",
       "    <tr>\n",
       "      <th>3</th>\n",
       "      <td>Brent</td>\n",
       "      <td>1999</td>\n",
       "      <td>127.7</td>\n",
       "      <td>2.571000</td>\n",
       "      <td>9.254000</td>\n",
       "      <td>7.198000</td>\n",
       "      <td>13.368000</td>\n",
       "      <td>12.339000</td>\n",
       "      <td>6.170000</td>\n",
       "      <td>6.170000</td>\n",
       "      <td>...</td>\n",
       "      <td>60.2</td>\n",
       "      <td>18.300000</td>\n",
       "      <td>21.642105</td>\n",
       "      <td>18.900000</td>\n",
       "      <td>81.100000</td>\n",
       "      <td>9.5</td>\n",
       "      <td>88.9</td>\n",
       "      <td>1.6</td>\n",
       "      <td>46.074271</td>\n",
       "      <td>84.845053</td>\n",
       "    </tr>\n",
       "    <tr>\n",
       "      <th>4</th>\n",
       "      <td>Bromley</td>\n",
       "      <td>1999</td>\n",
       "      <td>89.8</td>\n",
       "      <td>0.877000</td>\n",
       "      <td>4.871000</td>\n",
       "      <td>7.793000</td>\n",
       "      <td>5.845000</td>\n",
       "      <td>15.587000</td>\n",
       "      <td>4.384000</td>\n",
       "      <td>5.845000</td>\n",
       "      <td>...</td>\n",
       "      <td>19.6</td>\n",
       "      <td>18.468421</td>\n",
       "      <td>21.284211</td>\n",
       "      <td>15.918182</td>\n",
       "      <td>84.081818</td>\n",
       "      <td>85.0</td>\n",
       "      <td>11.7</td>\n",
       "      <td>0.0</td>\n",
       "      <td>53.105324</td>\n",
       "      <td>92.961117</td>\n",
       "    </tr>\n",
       "    <tr>\n",
       "      <th>...</th>\n",
       "      <td>...</td>\n",
       "      <td>...</td>\n",
       "      <td>...</td>\n",
       "      <td>...</td>\n",
       "      <td>...</td>\n",
       "      <td>...</td>\n",
       "      <td>...</td>\n",
       "      <td>...</td>\n",
       "      <td>...</td>\n",
       "      <td>...</td>\n",
       "      <td>...</td>\n",
       "      <td>...</td>\n",
       "      <td>...</td>\n",
       "      <td>...</td>\n",
       "      <td>...</td>\n",
       "      <td>...</td>\n",
       "      <td>...</td>\n",
       "      <td>...</td>\n",
       "      <td>...</td>\n",
       "      <td>...</td>\n",
       "      <td>...</td>\n",
       "    </tr>\n",
       "    <tr>\n",
       "      <th>731</th>\n",
       "      <td>Sutton</td>\n",
       "      <td>2021</td>\n",
       "      <td>62.0</td>\n",
       "      <td>0.405909</td>\n",
       "      <td>3.748364</td>\n",
       "      <td>7.647500</td>\n",
       "      <td>5.291727</td>\n",
       "      <td>11.284682</td>\n",
       "      <td>5.294500</td>\n",
       "      <td>4.922364</td>\n",
       "      <td>...</td>\n",
       "      <td>48.7</td>\n",
       "      <td>18.068421</td>\n",
       "      <td>20.436842</td>\n",
       "      <td>20.363636</td>\n",
       "      <td>79.636364</td>\n",
       "      <td>16.7</td>\n",
       "      <td>0.0</td>\n",
       "      <td>83.3</td>\n",
       "      <td>47.169628</td>\n",
       "      <td>72.416762</td>\n",
       "    </tr>\n",
       "    <tr>\n",
       "      <th>732</th>\n",
       "      <td>Tower Hamlets</td>\n",
       "      <td>2021</td>\n",
       "      <td>97.0</td>\n",
       "      <td>0.426182</td>\n",
       "      <td>3.156727</td>\n",
       "      <td>2.680136</td>\n",
       "      <td>3.345455</td>\n",
       "      <td>3.586318</td>\n",
       "      <td>2.956455</td>\n",
       "      <td>5.033909</td>\n",
       "      <td>...</td>\n",
       "      <td>167.6</td>\n",
       "      <td>16.305263</td>\n",
       "      <td>19.357895</td>\n",
       "      <td>16.954545</td>\n",
       "      <td>83.045455</td>\n",
       "      <td>11.1</td>\n",
       "      <td>48.9</td>\n",
       "      <td>0.0</td>\n",
       "      <td>79.618725</td>\n",
       "      <td>135.643491</td>\n",
       "    </tr>\n",
       "    <tr>\n",
       "      <th>733</th>\n",
       "      <td>Waltham Forest</td>\n",
       "      <td>2021</td>\n",
       "      <td>79.0</td>\n",
       "      <td>0.947455</td>\n",
       "      <td>6.222045</td>\n",
       "      <td>5.022318</td>\n",
       "      <td>7.387864</td>\n",
       "      <td>12.119909</td>\n",
       "      <td>4.352000</td>\n",
       "      <td>4.925000</td>\n",
       "      <td>...</td>\n",
       "      <td>75.4</td>\n",
       "      <td>17.231579</td>\n",
       "      <td>20.236842</td>\n",
       "      <td>23.800000</td>\n",
       "      <td>76.200000</td>\n",
       "      <td>26.7</td>\n",
       "      <td>73.3</td>\n",
       "      <td>0.0</td>\n",
       "      <td>26.224553</td>\n",
       "      <td>40.093251</td>\n",
       "    </tr>\n",
       "    <tr>\n",
       "      <th>734</th>\n",
       "      <td>Wandsworth</td>\n",
       "      <td>2021</td>\n",
       "      <td>75.0</td>\n",
       "      <td>0.548364</td>\n",
       "      <td>2.574045</td>\n",
       "      <td>3.408000</td>\n",
       "      <td>5.595955</td>\n",
       "      <td>10.836682</td>\n",
       "      <td>4.160182</td>\n",
       "      <td>8.038227</td>\n",
       "      <td>...</td>\n",
       "      <td>98.6</td>\n",
       "      <td>17.152632</td>\n",
       "      <td>20.194737</td>\n",
       "      <td>22.109091</td>\n",
       "      <td>77.890909</td>\n",
       "      <td>68.3</td>\n",
       "      <td>31.7</td>\n",
       "      <td>0.0</td>\n",
       "      <td>122.273988</td>\n",
       "      <td>209.901113</td>\n",
       "    </tr>\n",
       "    <tr>\n",
       "      <th>735</th>\n",
       "      <td>Westminster</td>\n",
       "      <td>2021</td>\n",
       "      <td>189.0</td>\n",
       "      <td>0.375273</td>\n",
       "      <td>1.352227</td>\n",
       "      <td>1.835409</td>\n",
       "      <td>2.908318</td>\n",
       "      <td>9.180591</td>\n",
       "      <td>2.786227</td>\n",
       "      <td>11.876364</td>\n",
       "      <td>...</td>\n",
       "      <td>122.1</td>\n",
       "      <td>19.689474</td>\n",
       "      <td>22.273684</td>\n",
       "      <td>13.718182</td>\n",
       "      <td>86.281818</td>\n",
       "      <td>73.3</td>\n",
       "      <td>26.7</td>\n",
       "      <td>0.0</td>\n",
       "      <td>140.627247</td>\n",
       "      <td>260.411137</td>\n",
       "    </tr>\n",
       "  </tbody>\n",
       "</table>\n",
       "<p>736 rows × 38 columns</p>\n",
       "</div>"
      ],
      "text/plain": [
       "                  Borough  Year  Crime rate  Primary & Utilities  \\\n",
       "0    Barking and Dagenham  1999       120.5             0.815000   \n",
       "1                  Barnet  1999        98.0             0.694000   \n",
       "2                  Bexley  1999        95.1             2.596000   \n",
       "3                   Brent  1999       127.7             2.571000   \n",
       "4                 Bromley  1999        89.8             0.877000   \n",
       "..                    ...   ...         ...                  ...   \n",
       "731                Sutton  2021        62.0             0.405909   \n",
       "732         Tower Hamlets  2021        97.0             0.426182   \n",
       "733        Waltham Forest  2021        79.0             0.947455   \n",
       "734            Wandsworth  2021        75.0             0.548364   \n",
       "735           Westminster  2021       189.0             0.375273   \n",
       "\n",
       "     Manufacturing  Construction  Wholesale     Retail  \\\n",
       "0        30.797000      4.529000   7.246000   8.152000   \n",
       "1         4.337000      4.337000   7.806000  15.611000   \n",
       "2        11.869000      6.677000   7.418000  13.353000   \n",
       "3         9.254000      7.198000  13.368000  12.339000   \n",
       "4         4.871000      7.793000   5.845000  15.587000   \n",
       "..             ...           ...        ...        ...   \n",
       "731       3.748364      7.647500   5.291727  11.284682   \n",
       "732       3.156727      2.680136   3.345455   3.586318   \n",
       "733       6.222045      5.022318   7.387864  12.119909   \n",
       "734       2.574045      3.408000   5.595955  10.836682   \n",
       "735       1.352227      1.835409   2.908318   9.180591   \n",
       "\n",
       "     Transportation and Storage  Accomodation and food service activities  \\\n",
       "0                      9.058000                                  4.076000   \n",
       "1                      4.337000                                  6.938000   \n",
       "2                      3.338000                                  5.935000   \n",
       "3                      6.170000                                  6.170000   \n",
       "4                      4.384000                                  5.845000   \n",
       "..                          ...                                       ...   \n",
       "731                    5.294500                                  4.922364   \n",
       "732                    2.956455                                  5.033909   \n",
       "733                    4.352000                                  4.925000   \n",
       "734                    4.160182                                  8.038227   \n",
       "735                    2.786227                                 11.876364   \n",
       "\n",
       "     ...  Population per hectare  Life expectancy of men at 65  \\\n",
       "0    ...                    45.0                     16.289474   \n",
       "1    ...                    36.1                     18.847368   \n",
       "2    ...                    35.9                     17.915789   \n",
       "3    ...                    60.2                     18.300000   \n",
       "4    ...                    19.6                     18.468421   \n",
       "..   ...                     ...                           ...   \n",
       "731  ...                    48.7                     18.068421   \n",
       "732  ...                   167.6                     16.305263   \n",
       "733  ...                    75.4                     17.231579   \n",
       "734  ...                    98.6                     17.152632   \n",
       "735  ...                   122.1                     19.689474   \n",
       "\n",
       "     Life expectancy of women at 65  % of Public sector jobs  \\\n",
       "0                         19.384211                20.490909   \n",
       "1                         21.410526                18.445455   \n",
       "2                         20.700000                16.381818   \n",
       "3                         21.642105                18.900000   \n",
       "4                         21.284211                15.918182   \n",
       "..                              ...                      ...   \n",
       "731                       20.436842                20.363636   \n",
       "732                       19.357895                16.954545   \n",
       "733                       20.236842                23.800000   \n",
       "734                       20.194737                22.109091   \n",
       "735                       22.273684                13.718182   \n",
       "\n",
       "     % of Private sector jobs  Proportion of seats won by Conservatives  \\\n",
       "0                   79.509091                                       0.0   \n",
       "1                   81.554545                                      50.8   \n",
       "2                   83.618182                                      71.4   \n",
       "3                   81.100000                                       9.5   \n",
       "4                   84.081818                                      85.0   \n",
       "..                        ...                                       ...   \n",
       "731                 79.636364                                      16.7   \n",
       "732                 83.045455                                      11.1   \n",
       "733                 76.200000                                      26.7   \n",
       "734                 77.890909                                      68.3   \n",
       "735                 86.281818                                      73.3   \n",
       "\n",
       "     Proportion of seats won by Labour  \\\n",
       "0                                100.0   \n",
       "1                                 47.6   \n",
       "2                                 23.8   \n",
       "3                                 88.9   \n",
       "4                                 11.7   \n",
       "..                                 ...   \n",
       "731                                0.0   \n",
       "732                               48.9   \n",
       "733                               73.3   \n",
       "734                               31.7   \n",
       "735                               26.7   \n",
       "\n",
       "     Proportion of seats won by Liberal Democrats  \\\n",
       "0                                             0.0   \n",
       "1                                             1.6   \n",
       "2                                             0.0   \n",
       "3                                             1.6   \n",
       "4                                             0.0   \n",
       "..                                            ...   \n",
       "731                                          83.3   \n",
       "732                                           0.0   \n",
       "733                                           0.0   \n",
       "734                                           0.0   \n",
       "735                                           0.0   \n",
       "\n",
       "     Consumer expenditure on Alcoholic beverages (£mn)  \\\n",
       "0                                            19.793610   \n",
       "1                                            60.159765   \n",
       "2                                            23.477447   \n",
       "3                                            46.074271   \n",
       "4                                            53.105324   \n",
       "..                                                 ...   \n",
       "731                                          47.169628   \n",
       "732                                          79.618725   \n",
       "733                                          26.224553   \n",
       "734                                         122.273988   \n",
       "735                                         140.627247   \n",
       "\n",
       "     Consumer expenditure on Pubs and Wine bars (£mn)  \n",
       "0                                           30.920531  \n",
       "1                                          114.874726  \n",
       "2                                           36.044944  \n",
       "3                                           84.845053  \n",
       "4                                           92.961117  \n",
       "..                                                ...  \n",
       "731                                         72.416762  \n",
       "732                                        135.643491  \n",
       "733                                         40.093251  \n",
       "734                                        209.901113  \n",
       "735                                        260.411137  \n",
       "\n",
       "[736 rows x 38 columns]"
      ]
     },
     "execution_count": 6,
     "metadata": {},
     "output_type": "execute_result"
    }
   ],
   "source": [
    "# Load the data into a Pandas DataFrame\n",
    "df = pd.read_csv('df_1999_2021_2.csv')\n",
    "df"
   ]
  },
  {
   "cell_type": "markdown",
   "id": "2d5c543a-0f94-48ea-87ac-a950de50482f",
   "metadata": {},
   "source": [
    "## Finding the optimal regressor score"
   ]
  },
  {
   "cell_type": "markdown",
   "id": "f561aed3-4df7-4624-aa12-0cffcbcfe47c",
   "metadata": {},
   "source": [
    "The random_state parameter is a seed value used to initialize the random number generator for various operations in machine learning algorithms. It is used to ensure that the results of these operations are reproducible, meaning that they will be the same every time the algorithm is run with the same seed value. In the context of a random forest model, the random_state parameter can be used to specify the seed value used to generate the random sampling of features and observations when building the individual trees in the forest. It is important to note that the random_state parameter does not determine the final predictions made by the model, but rather the process by which the model is trained.\n",
    "\n",
    "The aim of the code below to optimize the model's score() by iterating over a range of different random states for both the train-test split and the random forest regressor. In general, as the score of the model increases, the model is making more accurate predictions. This can in turn suggests that the borough-attribute importance scores are more reliable, as they are based on a model that is performing well.\n",
    "\n",
    "To begin, we split our data into features (X) and the target variable (y) and create an empty DataFrame to store our results. We then start a timer to measure the elapsed time.\n",
    "\n",
    "Next, we start the outer loop, which iterates over 101 different random states for the train-test split. For each iteration, we split the data into training and testing sets using the train_test_split() function from scikit-learn, with the test set size set to 20% of the total data and the random state specified by the current iteration. Then, we start the inner loop, which iterates over 101 different random states for the random forest regressor. This means we execute our ramdom forest regressor object 10,200 times, each time with a unique combination of random_states, yielding different model scores. \n",
    "\n",
    "The RandomForestRegressor() function within each inner loop, has the hyperparameter's n_estimators = 50,  max_features = 'auto', and max_depth = 40. The value of 50 for n_estimators was chosen because it strikes a good balance between accuracy and computational efficiency. A larger value for n_estimators generally leads to better performance, but it also increases the computational time required to train the model. The choice to set max_features to 'auto' was made because it is default value that can help to prevent overfitting and improve the generalization performance of the model. The value of 40 for max_depth was chosen in order to build a model with good performance without overfitting. A deeper tree can lead to better performance on the training data, but it can also increase the risk of overfitting. We increased the n_estimators and max_depth for the 1999_2021 dataset as this data set had a lot more data.\n",
    "\n",
    "After each iteration, we store the seeds from our relevant functions, and the regressor score in a DataFrame and concatenate it with the results DataFrame from previous iterations. This is with the aim of finding the maximum regressor score recorded, then using the recorded random_states to reproduce the results later in order to find the corresponding \"importance\" scores for our boroigh features.\n",
    "\n",
    "Finally, we stop the timer and calculate the elapsed time, which we print to the screen in minutes. This allows us to see how long it took to run all of the iterations and find the optimal regressor score."
   ]
  },
  {
   "cell_type": "markdown",
   "id": "f06312f8-9c20-4d38-bd05-b666a24fca61",
   "metadata": {},
   "source": [
    "### Do not re-run the following cell"
   ]
  },
  {
   "cell_type": "code",
   "execution_count": 37,
   "id": "13713b9b-a81d-4850-a791-50022e5f3b2d",
   "metadata": {},
   "outputs": [
    {
     "data": {
      "text/html": [
       "<div>\n",
       "<style scoped>\n",
       "    .dataframe tbody tr th:only-of-type {\n",
       "        vertical-align: middle;\n",
       "    }\n",
       "\n",
       "    .dataframe tbody tr th {\n",
       "        vertical-align: top;\n",
       "    }\n",
       "\n",
       "    .dataframe thead th {\n",
       "        text-align: right;\n",
       "    }\n",
       "</style>\n",
       "<table border=\"1\" class=\"dataframe\">\n",
       "  <thead>\n",
       "    <tr style=\"text-align: right;\">\n",
       "      <th></th>\n",
       "      <th>random_state_test_split</th>\n",
       "      <th>random_state_rf</th>\n",
       "      <th>score</th>\n",
       "    </tr>\n",
       "  </thead>\n",
       "  <tbody>\n",
       "    <tr>\n",
       "      <th>0</th>\n",
       "      <td>0</td>\n",
       "      <td>0</td>\n",
       "      <td>0.924517</td>\n",
       "    </tr>\n",
       "    <tr>\n",
       "      <th>1</th>\n",
       "      <td>0</td>\n",
       "      <td>1</td>\n",
       "      <td>0.925051</td>\n",
       "    </tr>\n",
       "    <tr>\n",
       "      <th>2</th>\n",
       "      <td>0</td>\n",
       "      <td>2</td>\n",
       "      <td>0.914165</td>\n",
       "    </tr>\n",
       "    <tr>\n",
       "      <th>3</th>\n",
       "      <td>0</td>\n",
       "      <td>3</td>\n",
       "      <td>0.922328</td>\n",
       "    </tr>\n",
       "    <tr>\n",
       "      <th>4</th>\n",
       "      <td>0</td>\n",
       "      <td>4</td>\n",
       "      <td>0.921826</td>\n",
       "    </tr>\n",
       "    <tr>\n",
       "      <th>...</th>\n",
       "      <td>...</td>\n",
       "      <td>...</td>\n",
       "      <td>...</td>\n",
       "    </tr>\n",
       "    <tr>\n",
       "      <th>10196</th>\n",
       "      <td>100</td>\n",
       "      <td>96</td>\n",
       "      <td>0.923329</td>\n",
       "    </tr>\n",
       "    <tr>\n",
       "      <th>10197</th>\n",
       "      <td>100</td>\n",
       "      <td>97</td>\n",
       "      <td>0.929516</td>\n",
       "    </tr>\n",
       "    <tr>\n",
       "      <th>10198</th>\n",
       "      <td>100</td>\n",
       "      <td>98</td>\n",
       "      <td>0.926615</td>\n",
       "    </tr>\n",
       "    <tr>\n",
       "      <th>10199</th>\n",
       "      <td>100</td>\n",
       "      <td>99</td>\n",
       "      <td>0.917985</td>\n",
       "    </tr>\n",
       "    <tr>\n",
       "      <th>10200</th>\n",
       "      <td>100</td>\n",
       "      <td>100</td>\n",
       "      <td>0.903749</td>\n",
       "    </tr>\n",
       "  </tbody>\n",
       "</table>\n",
       "<p>10201 rows × 3 columns</p>\n",
       "</div>"
      ],
      "text/plain": [
       "      random_state_test_split random_state_rf     score\n",
       "0                           0               0  0.924517\n",
       "1                           0               1  0.925051\n",
       "2                           0               2  0.914165\n",
       "3                           0               3  0.922328\n",
       "4                           0               4  0.921826\n",
       "...                       ...             ...       ...\n",
       "10196                     100              96  0.923329\n",
       "10197                     100              97  0.929516\n",
       "10198                     100              98  0.926615\n",
       "10199                     100              99  0.917985\n",
       "10200                     100             100  0.903749\n",
       "\n",
       "[10201 rows x 3 columns]"
      ]
     },
     "metadata": {},
     "output_type": "display_data"
    },
    {
     "name": "stdout",
     "output_type": "stream",
     "text": [
      "Elapsed time: 95 minutes\n"
     ]
    }
   ],
   "source": [
    "# Create an empty DataFrame\n",
    "results_df = pd.DataFrame(columns=['random_state_test_split','random_state_rf', 'score'])\n",
    "\n",
    "# Split the data into features (X) and target variable (y)\n",
    "X = df.drop(columns=['Borough','Year','Crime rate'], axis=1)\n",
    "y = df['Crime rate']\n",
    "\n",
    "# Start the timer\n",
    "start_time = time.time()\n",
    "\n",
    "for random_state_test_split in range(101):\n",
    "    \n",
    "    # Split the data into training and testing sets\n",
    "    X_train, X_test, y_train, y_test = train_test_split(X, y, test_size=0.2, random_state=random_state_test_split)\n",
    "    for random_state_rf in range(101):\n",
    "        # Create a RandomForestRegressor object\n",
    "        regressor = RandomForestRegressor(n_estimators = 50, max_features = 'auto', max_depth = 40, random_state= random_state_rf)\n",
    "\n",
    "        # Train the model on the training data\n",
    "        regressor.fit(X_train, y_train)\n",
    "\n",
    "        # Make predictions on the test data\n",
    "        predictions = regressor.predict(X_test)\n",
    "\n",
    "        # Evaluate the model performance\n",
    "        regressor_score = regressor.score(X_test, y_test)\n",
    "\n",
    "        # Create a new DataFrame for the current iteration\n",
    "        df1 = pd.DataFrame({'random_state_test_split': random_state_test_split, 'random_state_rf': random_state_rf, 'score': regressor_score}, index=[i])\n",
    "\n",
    "        # Append the DataFrame to the results DataFrame\n",
    "        results_df = pd.concat([results_df, df1])\n",
    "\n",
    "\n",
    "# Print the results DataFrame\n",
    "results_df= results_df.reset_index(drop=True)\n",
    "display(results_df)\n",
    "\n",
    "# Stop the timer\n",
    "end_time = time.time()\n",
    "\n",
    "# Calculate the elapsed time\n",
    "elapsed_time = end_time - start_time\n",
    "\n",
    "elapsed_time= round(elapsed_time/60)\n",
    "# Print the elapsed time\n",
    "print(f\"Elapsed time: {elapsed_time} minutes\")\n",
    "results_df.to_csv('random_state_combination_df_1999_2021.csv', index=False)\n"
   ]
  },
  {
   "cell_type": "markdown",
   "id": "37ffba64-9492-4c3e-9453-3c5561a640e5",
   "metadata": {},
   "source": [
    "The code above took 95 minutes to execute. We now save the df as a csv and then start analyzing the table to find the optimal regressor score."
   ]
  },
  {
   "cell_type": "code",
   "execution_count": 4,
   "id": "2ed5c3ba-2d1e-4d7e-8b4a-f6d6badfa143",
   "metadata": {},
   "outputs": [],
   "source": [
    "random_state_combination_df_1999_2021= pd.read_csv('random_state_combination_df_1999_2021.csv')"
   ]
  },
  {
   "cell_type": "code",
   "execution_count": 5,
   "id": "e5135316-85a1-47d2-a950-7215e2f0275e",
   "metadata": {},
   "outputs": [
    {
     "name": "stdout",
     "output_type": "stream",
     "text": [
      "The index of the maximum score is 8291\n"
     ]
    }
   ],
   "source": [
    "\n",
    "# Find the maximum score\n",
    "max_score = random_state_combination_df_1999_2021['score'].max()\n",
    "\n",
    "# Get the index of the row where the maximum score occurs\n",
    "max_index = random_state_combination_df_1999_2021.index[random_state_combination_df_1999_2021['score'] == max_score]\n",
    "max_index= max_index[0]\n",
    "# Print the index of the maximum score row\n",
    "print(f'The index of the maximum score is {max_index}')"
   ]
  },
  {
   "cell_type": "code",
   "execution_count": 7,
   "id": "a32e3b96-e574-4a92-ad6b-b70f7adc0c6c",
   "metadata": {},
   "outputs": [
    {
     "data": {
      "text/plain": [
       "random_state_test_split    82.000000\n",
       "random_state_rf             9.000000\n",
       "score                       0.963994\n",
       "Name: 8291, dtype: float64"
      ]
     },
     "metadata": {},
     "output_type": "display_data"
    }
   ],
   "source": [
    "#Display the row that has the maximum score\n",
    "display(random_state_combination_df_1999_2021.loc[max_index])"
   ]
  },
  {
   "cell_type": "markdown",
   "id": "238f7133-d187-4405-8fa7-75ce534dd5de",
   "metadata": {},
   "source": [
    "## Visualize our score data\n",
    "\n",
    "We want to understand what the nature of how our model did over the 10,200 itterations. TO do this we can visualize our score data using a boxplot"
   ]
  },
  {
   "cell_type": "code",
   "execution_count": 19,
   "id": "4ac77b7e-4a3c-4a00-b8d5-4aacb08aa29a",
   "metadata": {},
   "outputs": [
    {
     "data": {
      "image/png": "[encoded data removed]",
      "text/plain": [
       "<Figure size 432x288 with 1 Axes>"
      ]
     },
     "metadata": {
      "needs_background": "light"
     },
     "output_type": "display_data"
    }
   ],
   "source": [
    "\n",
    "# Create a boxplot using seaborn\n",
    "bp = sns.boxplot(y=random_state_combination_df_1999_2021['score'])\n",
    "\n",
    "\n",
    "# Add axis labels and a title\n",
    "plt.ylabel('Regressor score')\n",
    "plt.title('Boxplot for Regressor score, 1999-2021')\n",
    "\n",
    "# Set the visibility of some of the outline to False\n",
    "bp.spines['top'].set_visible(False)\n",
    "bp.spines['right'].set_visible(False)\n",
    "\n",
    "# Increase the space between the title and the boxplot\n",
    "plt.subplots_adjust(top=1.7)\n",
    "\n",
    "\n",
    "# Get the y-values for the quartiles\n",
    "max_ = random_state_combination_df_1999_2021['score'].max()\n",
    "mean = random_state_combination_df_1999_2021['score'].mean()\n",
    "\n",
    "# Change the color of the Mean line to red\n",
    "bp.lines[4].set_color('red')\n",
    "\n",
    "# Change the color of the Maximum line to green\n",
    "bp.lines[3].set_color('green')\n",
    "\n",
    "\n",
    "# Add text labels to the plot\n",
    "plt.text(x=0.2, y=max_, s=f' Maximum = {round(max_,2)}')\n",
    "plt.text(x=0.42, y=mean, s=f'Mean = {round(mean,2)}')\n",
    "\n",
    "\n",
    "# Display the plot\n",
    "plt.show()\n",
    "\n"
   ]
  },
  {
   "cell_type": "code",
   "execution_count": 9,
   "id": "10de6504-4731-4e94-af20-a39e16a08c03",
   "metadata": {},
   "outputs": [
    {
     "name": "stdout",
     "output_type": "stream",
     "text": [
      "Minimum = 0.26\n",
      "First quartile = 0.89\n",
      "Mean = 0.9\n",
      "Third quartile = 0.93\n",
      "Maximum = 0.96\n"
     ]
    }
   ],
   "source": [
    "# Get summary statistics of the data\n",
    "min_ = random_state_combination_df_1999_2021['score'].min()\n",
    "q1 = random_state_combination_df_1999_2021['score'].quantile(0.25)\n",
    "mean = random_state_combination_df_1999_2021['score'].mean()\n",
    "q3 = random_state_combination_df_1999_2021['score'].quantile(0.75)\n",
    "max_ = random_state_combination_df_1999_2021['score'].max()\n",
    "\n",
    "\n",
    "print(f\"Minimum = {round(min_, 2)}\")\n",
    "print(f\"First quartile = {round(q1, 2)}\")\n",
    "print(f\"Mean = {round(mean, 2)}\")\n",
    "print(f\"Third quartile = {round(q3, 2)}\")\n",
    "print(f\"Maximum = {round(max_, 2)}\")"
   ]
  },
  {
   "cell_type": "markdown",
   "id": "2f7bdbc3-ce82-418b-be79-4a0810995b67",
   "metadata": {},
   "source": [
    "## Rename the Job's per sector columns"
   ]
  },
  {
   "cell_type": "code",
   "execution_count": 14,
   "id": "eb2e372c-de13-48c6-9baf-0069d58a3218",
   "metadata": {},
   "outputs": [
    {
     "data": {
      "text/html": [
       "<div>\n",
       "<style scoped>\n",
       "    .dataframe tbody tr th:only-of-type {\n",
       "        vertical-align: middle;\n",
       "    }\n",
       "\n",
       "    .dataframe tbody tr th {\n",
       "        vertical-align: top;\n",
       "    }\n",
       "\n",
       "    .dataframe thead th {\n",
       "        text-align: right;\n",
       "    }\n",
       "</style>\n",
       "<table border=\"1\" class=\"dataframe\">\n",
       "  <thead>\n",
       "    <tr style=\"text-align: right;\">\n",
       "      <th></th>\n",
       "      <th>Borough</th>\n",
       "      <th>Year</th>\n",
       "      <th>Crime rate</th>\n",
       "      <th>% of Primary &amp; Utilities workers</th>\n",
       "      <th>% of Manufacturing workers</th>\n",
       "      <th>% of Construction workers</th>\n",
       "      <th>% of Wholesale workers</th>\n",
       "      <th>% of Retail workers</th>\n",
       "      <th>% of Transportation and Storage workers</th>\n",
       "      <th>% of Accomodation and food service activities workers</th>\n",
       "      <th>...</th>\n",
       "      <th>Population per hectare</th>\n",
       "      <th>Life expectancy of men at 65</th>\n",
       "      <th>Life expectancy of women at 65</th>\n",
       "      <th>% of Public sector jobs</th>\n",
       "      <th>% of Private sector jobs</th>\n",
       "      <th>Proportion of seats won by Conservatives</th>\n",
       "      <th>Proportion of seats won by Labour</th>\n",
       "      <th>Proportion of seats won by Liberal Democrats</th>\n",
       "      <th>Consumer expenditure on Alcoholic beverages (£mn)</th>\n",
       "      <th>Consumer expenditure on Pubs and Wine bars (£mn)</th>\n",
       "    </tr>\n",
       "  </thead>\n",
       "  <tbody>\n",
       "    <tr>\n",
       "      <th>0</th>\n",
       "      <td>Barking and Dagenham</td>\n",
       "      <td>1999</td>\n",
       "      <td>120.5</td>\n",
       "      <td>0.815000</td>\n",
       "      <td>30.797000</td>\n",
       "      <td>4.529000</td>\n",
       "      <td>7.246000</td>\n",
       "      <td>8.152000</td>\n",
       "      <td>9.058000</td>\n",
       "      <td>4.076000</td>\n",
       "      <td>...</td>\n",
       "      <td>45.0</td>\n",
       "      <td>16.289474</td>\n",
       "      <td>19.384211</td>\n",
       "      <td>20.490909</td>\n",
       "      <td>79.509091</td>\n",
       "      <td>0.0</td>\n",
       "      <td>100.0</td>\n",
       "      <td>0.0</td>\n",
       "      <td>19.793610</td>\n",
       "      <td>30.920531</td>\n",
       "    </tr>\n",
       "    <tr>\n",
       "      <th>1</th>\n",
       "      <td>Barnet</td>\n",
       "      <td>1999</td>\n",
       "      <td>98.0</td>\n",
       "      <td>0.694000</td>\n",
       "      <td>4.337000</td>\n",
       "      <td>4.337000</td>\n",
       "      <td>7.806000</td>\n",
       "      <td>15.611000</td>\n",
       "      <td>4.337000</td>\n",
       "      <td>6.938000</td>\n",
       "      <td>...</td>\n",
       "      <td>36.1</td>\n",
       "      <td>18.847368</td>\n",
       "      <td>21.410526</td>\n",
       "      <td>18.445455</td>\n",
       "      <td>81.554545</td>\n",
       "      <td>50.8</td>\n",
       "      <td>47.6</td>\n",
       "      <td>1.6</td>\n",
       "      <td>60.159765</td>\n",
       "      <td>114.874726</td>\n",
       "    </tr>\n",
       "    <tr>\n",
       "      <th>2</th>\n",
       "      <td>Bexley</td>\n",
       "      <td>1999</td>\n",
       "      <td>95.1</td>\n",
       "      <td>2.596000</td>\n",
       "      <td>11.869000</td>\n",
       "      <td>6.677000</td>\n",
       "      <td>7.418000</td>\n",
       "      <td>13.353000</td>\n",
       "      <td>3.338000</td>\n",
       "      <td>5.935000</td>\n",
       "      <td>...</td>\n",
       "      <td>35.9</td>\n",
       "      <td>17.915789</td>\n",
       "      <td>20.700000</td>\n",
       "      <td>16.381818</td>\n",
       "      <td>83.618182</td>\n",
       "      <td>71.4</td>\n",
       "      <td>23.8</td>\n",
       "      <td>0.0</td>\n",
       "      <td>23.477447</td>\n",
       "      <td>36.044944</td>\n",
       "    </tr>\n",
       "    <tr>\n",
       "      <th>3</th>\n",
       "      <td>Brent</td>\n",
       "      <td>1999</td>\n",
       "      <td>127.7</td>\n",
       "      <td>2.571000</td>\n",
       "      <td>9.254000</td>\n",
       "      <td>7.198000</td>\n",
       "      <td>13.368000</td>\n",
       "      <td>12.339000</td>\n",
       "      <td>6.170000</td>\n",
       "      <td>6.170000</td>\n",
       "      <td>...</td>\n",
       "      <td>60.2</td>\n",
       "      <td>18.300000</td>\n",
       "      <td>21.642105</td>\n",
       "      <td>18.900000</td>\n",
       "      <td>81.100000</td>\n",
       "      <td>9.5</td>\n",
       "      <td>88.9</td>\n",
       "      <td>1.6</td>\n",
       "      <td>46.074271</td>\n",
       "      <td>84.845053</td>\n",
       "    </tr>\n",
       "    <tr>\n",
       "      <th>4</th>\n",
       "      <td>Bromley</td>\n",
       "      <td>1999</td>\n",
       "      <td>89.8</td>\n",
       "      <td>0.877000</td>\n",
       "      <td>4.871000</td>\n",
       "      <td>7.793000</td>\n",
       "      <td>5.845000</td>\n",
       "      <td>15.587000</td>\n",
       "      <td>4.384000</td>\n",
       "      <td>5.845000</td>\n",
       "      <td>...</td>\n",
       "      <td>19.6</td>\n",
       "      <td>18.468421</td>\n",
       "      <td>21.284211</td>\n",
       "      <td>15.918182</td>\n",
       "      <td>84.081818</td>\n",
       "      <td>85.0</td>\n",
       "      <td>11.7</td>\n",
       "      <td>0.0</td>\n",
       "      <td>53.105324</td>\n",
       "      <td>92.961117</td>\n",
       "    </tr>\n",
       "    <tr>\n",
       "      <th>...</th>\n",
       "      <td>...</td>\n",
       "      <td>...</td>\n",
       "      <td>...</td>\n",
       "      <td>...</td>\n",
       "      <td>...</td>\n",
       "      <td>...</td>\n",
       "      <td>...</td>\n",
       "      <td>...</td>\n",
       "      <td>...</td>\n",
       "      <td>...</td>\n",
       "      <td>...</td>\n",
       "      <td>...</td>\n",
       "      <td>...</td>\n",
       "      <td>...</td>\n",
       "      <td>...</td>\n",
       "      <td>...</td>\n",
       "      <td>...</td>\n",
       "      <td>...</td>\n",
       "      <td>...</td>\n",
       "      <td>...</td>\n",
       "      <td>...</td>\n",
       "    </tr>\n",
       "    <tr>\n",
       "      <th>731</th>\n",
       "      <td>Sutton</td>\n",
       "      <td>2021</td>\n",
       "      <td>62.0</td>\n",
       "      <td>0.405909</td>\n",
       "      <td>3.748364</td>\n",
       "      <td>7.647500</td>\n",
       "      <td>5.291727</td>\n",
       "      <td>11.284682</td>\n",
       "      <td>5.294500</td>\n",
       "      <td>4.922364</td>\n",
       "      <td>...</td>\n",
       "      <td>48.7</td>\n",
       "      <td>18.068421</td>\n",
       "      <td>20.436842</td>\n",
       "      <td>20.363636</td>\n",
       "      <td>79.636364</td>\n",
       "      <td>16.7</td>\n",
       "      <td>0.0</td>\n",
       "      <td>83.3</td>\n",
       "      <td>47.169628</td>\n",
       "      <td>72.416762</td>\n",
       "    </tr>\n",
       "    <tr>\n",
       "      <th>732</th>\n",
       "      <td>Tower Hamlets</td>\n",
       "      <td>2021</td>\n",
       "      <td>97.0</td>\n",
       "      <td>0.426182</td>\n",
       "      <td>3.156727</td>\n",
       "      <td>2.680136</td>\n",
       "      <td>3.345455</td>\n",
       "      <td>3.586318</td>\n",
       "      <td>2.956455</td>\n",
       "      <td>5.033909</td>\n",
       "      <td>...</td>\n",
       "      <td>167.6</td>\n",
       "      <td>16.305263</td>\n",
       "      <td>19.357895</td>\n",
       "      <td>16.954545</td>\n",
       "      <td>83.045455</td>\n",
       "      <td>11.1</td>\n",
       "      <td>48.9</td>\n",
       "      <td>0.0</td>\n",
       "      <td>79.618725</td>\n",
       "      <td>135.643491</td>\n",
       "    </tr>\n",
       "    <tr>\n",
       "      <th>733</th>\n",
       "      <td>Waltham Forest</td>\n",
       "      <td>2021</td>\n",
       "      <td>79.0</td>\n",
       "      <td>0.947455</td>\n",
       "      <td>6.222045</td>\n",
       "      <td>5.022318</td>\n",
       "      <td>7.387864</td>\n",
       "      <td>12.119909</td>\n",
       "      <td>4.352000</td>\n",
       "      <td>4.925000</td>\n",
       "      <td>...</td>\n",
       "      <td>75.4</td>\n",
       "      <td>17.231579</td>\n",
       "      <td>20.236842</td>\n",
       "      <td>23.800000</td>\n",
       "      <td>76.200000</td>\n",
       "      <td>26.7</td>\n",
       "      <td>73.3</td>\n",
       "      <td>0.0</td>\n",
       "      <td>26.224553</td>\n",
       "      <td>40.093251</td>\n",
       "    </tr>\n",
       "    <tr>\n",
       "      <th>734</th>\n",
       "      <td>Wandsworth</td>\n",
       "      <td>2021</td>\n",
       "      <td>75.0</td>\n",
       "      <td>0.548364</td>\n",
       "      <td>2.574045</td>\n",
       "      <td>3.408000</td>\n",
       "      <td>5.595955</td>\n",
       "      <td>10.836682</td>\n",
       "      <td>4.160182</td>\n",
       "      <td>8.038227</td>\n",
       "      <td>...</td>\n",
       "      <td>98.6</td>\n",
       "      <td>17.152632</td>\n",
       "      <td>20.194737</td>\n",
       "      <td>22.109091</td>\n",
       "      <td>77.890909</td>\n",
       "      <td>68.3</td>\n",
       "      <td>31.7</td>\n",
       "      <td>0.0</td>\n",
       "      <td>122.273988</td>\n",
       "      <td>209.901113</td>\n",
       "    </tr>\n",
       "    <tr>\n",
       "      <th>735</th>\n",
       "      <td>Westminster</td>\n",
       "      <td>2021</td>\n",
       "      <td>189.0</td>\n",
       "      <td>0.375273</td>\n",
       "      <td>1.352227</td>\n",
       "      <td>1.835409</td>\n",
       "      <td>2.908318</td>\n",
       "      <td>9.180591</td>\n",
       "      <td>2.786227</td>\n",
       "      <td>11.876364</td>\n",
       "      <td>...</td>\n",
       "      <td>122.1</td>\n",
       "      <td>19.689474</td>\n",
       "      <td>22.273684</td>\n",
       "      <td>13.718182</td>\n",
       "      <td>86.281818</td>\n",
       "      <td>73.3</td>\n",
       "      <td>26.7</td>\n",
       "      <td>0.0</td>\n",
       "      <td>140.627247</td>\n",
       "      <td>260.411137</td>\n",
       "    </tr>\n",
       "  </tbody>\n",
       "</table>\n",
       "<p>736 rows × 38 columns</p>\n",
       "</div>"
      ],
      "text/plain": [
       "                  Borough  Year  Crime rate  % of Primary & Utilities workers  \\\n",
       "0    Barking and Dagenham  1999       120.5                          0.815000   \n",
       "1                  Barnet  1999        98.0                          0.694000   \n",
       "2                  Bexley  1999        95.1                          2.596000   \n",
       "3                   Brent  1999       127.7                          2.571000   \n",
       "4                 Bromley  1999        89.8                          0.877000   \n",
       "..                    ...   ...         ...                               ...   \n",
       "731                Sutton  2021        62.0                          0.405909   \n",
       "732         Tower Hamlets  2021        97.0                          0.426182   \n",
       "733        Waltham Forest  2021        79.0                          0.947455   \n",
       "734            Wandsworth  2021        75.0                          0.548364   \n",
       "735           Westminster  2021       189.0                          0.375273   \n",
       "\n",
       "     % of Manufacturing workers  % of Construction workers  \\\n",
       "0                     30.797000                   4.529000   \n",
       "1                      4.337000                   4.337000   \n",
       "2                     11.869000                   6.677000   \n",
       "3                      9.254000                   7.198000   \n",
       "4                      4.871000                   7.793000   \n",
       "..                          ...                        ...   \n",
       "731                    3.748364                   7.647500   \n",
       "732                    3.156727                   2.680136   \n",
       "733                    6.222045                   5.022318   \n",
       "734                    2.574045                   3.408000   \n",
       "735                    1.352227                   1.835409   \n",
       "\n",
       "     % of Wholesale workers  % of Retail workers  \\\n",
       "0                  7.246000             8.152000   \n",
       "1                  7.806000            15.611000   \n",
       "2                  7.418000            13.353000   \n",
       "3                 13.368000            12.339000   \n",
       "4                  5.845000            15.587000   \n",
       "..                      ...                  ...   \n",
       "731                5.291727            11.284682   \n",
       "732                3.345455             3.586318   \n",
       "733                7.387864            12.119909   \n",
       "734                5.595955            10.836682   \n",
       "735                2.908318             9.180591   \n",
       "\n",
       "     % of Transportation and Storage workers  \\\n",
       "0                                   9.058000   \n",
       "1                                   4.337000   \n",
       "2                                   3.338000   \n",
       "3                                   6.170000   \n",
       "4                                   4.384000   \n",
       "..                                       ...   \n",
       "731                                 5.294500   \n",
       "732                                 2.956455   \n",
       "733                                 4.352000   \n",
       "734                                 4.160182   \n",
       "735                                 2.786227   \n",
       "\n",
       "     % of Accomodation and food service activities workers  ...  \\\n",
       "0                                             4.076000      ...   \n",
       "1                                             6.938000      ...   \n",
       "2                                             5.935000      ...   \n",
       "3                                             6.170000      ...   \n",
       "4                                             5.845000      ...   \n",
       "..                                                 ...      ...   \n",
       "731                                           4.922364      ...   \n",
       "732                                           5.033909      ...   \n",
       "733                                           4.925000      ...   \n",
       "734                                           8.038227      ...   \n",
       "735                                          11.876364      ...   \n",
       "\n",
       "     Population per hectare  Life expectancy of men at 65  \\\n",
       "0                      45.0                     16.289474   \n",
       "1                      36.1                     18.847368   \n",
       "2                      35.9                     17.915789   \n",
       "3                      60.2                     18.300000   \n",
       "4                      19.6                     18.468421   \n",
       "..                      ...                           ...   \n",
       "731                    48.7                     18.068421   \n",
       "732                   167.6                     16.305263   \n",
       "733                    75.4                     17.231579   \n",
       "734                    98.6                     17.152632   \n",
       "735                   122.1                     19.689474   \n",
       "\n",
       "     Life expectancy of women at 65  % of Public sector jobs  \\\n",
       "0                         19.384211                20.490909   \n",
       "1                         21.410526                18.445455   \n",
       "2                         20.700000                16.381818   \n",
       "3                         21.642105                18.900000   \n",
       "4                         21.284211                15.918182   \n",
       "..                              ...                      ...   \n",
       "731                       20.436842                20.363636   \n",
       "732                       19.357895                16.954545   \n",
       "733                       20.236842                23.800000   \n",
       "734                       20.194737                22.109091   \n",
       "735                       22.273684                13.718182   \n",
       "\n",
       "     % of Private sector jobs  Proportion of seats won by Conservatives  \\\n",
       "0                   79.509091                                       0.0   \n",
       "1                   81.554545                                      50.8   \n",
       "2                   83.618182                                      71.4   \n",
       "3                   81.100000                                       9.5   \n",
       "4                   84.081818                                      85.0   \n",
       "..                        ...                                       ...   \n",
       "731                 79.636364                                      16.7   \n",
       "732                 83.045455                                      11.1   \n",
       "733                 76.200000                                      26.7   \n",
       "734                 77.890909                                      68.3   \n",
       "735                 86.281818                                      73.3   \n",
       "\n",
       "     Proportion of seats won by Labour  \\\n",
       "0                                100.0   \n",
       "1                                 47.6   \n",
       "2                                 23.8   \n",
       "3                                 88.9   \n",
       "4                                 11.7   \n",
       "..                                 ...   \n",
       "731                                0.0   \n",
       "732                               48.9   \n",
       "733                               73.3   \n",
       "734                               31.7   \n",
       "735                               26.7   \n",
       "\n",
       "     Proportion of seats won by Liberal Democrats  \\\n",
       "0                                             0.0   \n",
       "1                                             1.6   \n",
       "2                                             0.0   \n",
       "3                                             1.6   \n",
       "4                                             0.0   \n",
       "..                                            ...   \n",
       "731                                          83.3   \n",
       "732                                           0.0   \n",
       "733                                           0.0   \n",
       "734                                           0.0   \n",
       "735                                           0.0   \n",
       "\n",
       "     Consumer expenditure on Alcoholic beverages (£mn)  \\\n",
       "0                                            19.793610   \n",
       "1                                            60.159765   \n",
       "2                                            23.477447   \n",
       "3                                            46.074271   \n",
       "4                                            53.105324   \n",
       "..                                                 ...   \n",
       "731                                          47.169628   \n",
       "732                                          79.618725   \n",
       "733                                          26.224553   \n",
       "734                                         122.273988   \n",
       "735                                         140.627247   \n",
       "\n",
       "     Consumer expenditure on Pubs and Wine bars (£mn)  \n",
       "0                                           30.920531  \n",
       "1                                          114.874726  \n",
       "2                                           36.044944  \n",
       "3                                           84.845053  \n",
       "4                                           92.961117  \n",
       "..                                                ...  \n",
       "731                                         72.416762  \n",
       "732                                        135.643491  \n",
       "733                                         40.093251  \n",
       "734                                        209.901113  \n",
       "735                                        260.411137  \n",
       "\n",
       "[736 rows x 38 columns]"
      ]
     },
     "execution_count": 14,
     "metadata": {},
     "output_type": "execute_result"
    }
   ],
   "source": [
    "column_names = ['Primary & Utilities', 'Manufacturing',       'Construction', 'Wholesale', 'Retail', 'Transportation and Storage',       'Accomodation and food service activities',       'Information and Communication', 'Financial and insurance activities',       'Professional, Real Estate, Scientific and technical activities',       'Administrative and support service activities',       'Public Admin and defence', 'Education', 'Health',       'Arts, entertainment and recreation', 'Other services']\n",
    "\n",
    "df = df.rename(columns={column: f'% of {column} workers' for column in column_names})\n",
    "df"
   ]
  },
  {
   "cell_type": "markdown",
   "id": "10df9b1d-c879-48a5-abcc-9e41d4eb700d",
   "metadata": {},
   "source": [
    "## Use the optimized random state's"
   ]
  },
  {
   "cell_type": "markdown",
   "id": "bae5b547-cabb-4c2e-8c60-4b174f6d263c",
   "metadata": {},
   "source": [
    "To reproduce the optimal regressor score, we can set the random_state parameters to the corrsponding values we found above (i.e. the random seeds that generated the maximum score)."
   ]
  },
  {
   "cell_type": "code",
   "execution_count": 47,
   "id": "010c1739-fe93-4815-90a4-8bd17a7f9226",
   "metadata": {},
   "outputs": [],
   "source": [
    "# Split the data into features (X) and target variable (y)\n",
    "X = df.drop(columns=['Borough','Year','Crime rate'], axis=1)\n",
    "y = df['Crime rate']\n",
    "\n",
    "# Split the data into training and testing sets\n",
    "X_train, X_test, y_train, y_test = train_test_split(X, y, test_size=0.2, random_state=82)\n",
    "\n",
    "# Create a RandomForestRegressor object\n",
    "regressor = RandomForestRegressor(n_estimators = 40, max_features = 'auto', max_depth = 30, random_state= 9)\n",
    "\n",
    "\n",
    "# Train the model on the training data\n",
    "regressor.fit(X_train, y_train)\n",
    "\n",
    "# Make predictions on the test data\n",
    "predictions = regressor.predict(X_test)\n"
   ]
  },
  {
   "cell_type": "code",
   "execution_count": 48,
   "id": "a2644650-9ecb-4770-bf98-de639d5acb71",
   "metadata": {},
   "outputs": [
    {
     "name": "stdout",
     "output_type": "stream",
     "text": [
      "The regressor.score is 0.9636977644011028\n",
      "\n",
      "% of Primary & Utilities workers: 0.0036300400775677527\n",
      "% of Manufacturing workers: 0.03447704184669269\n",
      "% of Construction workers: 0.009283015865601464\n",
      "% of Wholesale workers: 0.00944611048493943\n",
      "% of Retail workers: 0.00589559941922008\n",
      "% of Transportation and Storage workers: 0.016652689167924666\n",
      "% of Accomodation and food service activities workers: 0.04138333192222088\n",
      "% of Information and Communication workers: 0.012706425206270848\n",
      "% of Financial and insurance activities workers: 0.007642478794369673\n",
      "% of Professional, Real Estate, Scientific and technical activities workers: 0.0025684554172086364\n",
      "% of Administrative and support service activities workers: 0.006847886158560568\n",
      "% of Public Admin and defence workers: 0.015817103974361816\n",
      "% of Education workers: 0.04781248344860278\n",
      "% of Health workers: 0.3131324516208583\n",
      "% of Arts, entertainment and recreation workers: 0.006243796491063873\n",
      "% of Other services workers: 0.012992578149029727\n",
      "Dwellings per hectare: 0.2158486800578927\n",
      "Average number of homeless people per 1000: 0.005408632963616645\n",
      "Attainment: 0.005593393155528935\n",
      "Happiness score out of 10: 0.0020282935378086258\n",
      "Anxiety score out of 10: 0.0055436972386053995\n",
      "Worthwhile score out of 10: 0.007354568652875035\n",
      "Life satisfaction score out of 10: 0.0010932792594303285\n",
      "Ratio of house prices to earnings: 0.0033910570857537585\n",
      "Wage per hour: 0.01119566053115787\n",
      "Population per hectare: 0.02809849989424336\n",
      "Life expectancy of men at 65: 0.12359731072209178\n",
      "Life expectancy of women at 65: 0.008033993011375999\n",
      "% of Public sector jobs: 0.00538416050370891\n",
      "% of Private sector jobs: 0.006426794363425532\n",
      "Proportion of seats won by Conservatives: 0.0007215412914880851\n",
      "Proportion of seats won by Labour: 0.009614896132328058\n",
      "Proportion of seats won by Liberal Democrats: 0.0011150150682114847\n",
      "Consumer expenditure on Alcoholic beverages (£mn): 0.005012476019599306\n",
      "Consumer expenditure on Pubs and Wine bars (£mn): 0.008006562466365148\n"
     ]
    }
   ],
   "source": [
    "# Evaluate the model performance\n",
    "regressor_score= regressor.score(X_test, y_test)\n",
    "print(f\"The regressor.score is {regressor_score}\")\n",
    "# Get the feature importances\n",
    "importances = regressor.feature_importances_\n",
    "\n",
    "print(\"\")\n",
    "# Print the feature importances\n",
    "for i, col in enumerate(X_train.columns):\n",
    "    print(f'{col}: {importances[i]}')\n"
   ]
  },
  {
   "cell_type": "markdown",
   "id": "e359df5e-f1c8-4049-95a0-cbc57d1b7570",
   "metadata": {},
   "source": [
    "\n"
   ]
  },
  {
   "cell_type": "markdown",
   "id": "b864980f-44f8-4cc6-ad21-fc03b3ccee63",
   "metadata": {
    "tags": []
   },
   "source": [
    "### Plotting the importance scores\n"
   ]
  },
  {
   "cell_type": "markdown",
   "id": "25db23e3-fe00-4056-97cb-27b8254c346a",
   "metadata": {},
   "source": [
    "We must now visualize the \"Importance score\" for each \"Borough Attribute\" in order to dertmine which \"Borough Attribute\" has the highest importance score."
   ]
  },
  {
   "cell_type": "code",
   "execution_count": 17,
   "id": "2150f1c9-de5d-403e-86b3-cd6793dd36cc",
   "metadata": {},
   "outputs": [
    {
     "data": {
      "application/vnd.plotly.v1+json": {
       "config": {
        "plotlyServerURL": "https://plot.ly"
       },
       "data": [
        {
         "alignmentgroup": "True",
         "hovertemplate": "Borough Attribute=%{x}<br>Importance score=%{y}<extra></extra>",
         "legendgroup": "",
         "marker": {
          "color": "#636efa",
          "pattern": {
           "shape": ""
          }
         },
         "name": "",
         "offsetgroup": "",
         "orientation": "v",
         "showlegend": false,
         "textposition": "auto",
         "type": "bar",
         "x": [
          "% of Primary & Utilities workers",
          "% of Manufacturing workers",
          "% of Construction workers",
          "% of Wholesale workers",
          "% of Retail workers",
          "% of Transportation and Storage workers",
          "% of Accomodation and food service activities workers",
          "% of Information and Communication workers",
          "% of Financial and insurance activities workers",
          "% of Professional, Real Estate, Scientific and technical activities workers",
          "% of Administrative and support service activities workers",
          "% of Public Admin and defence workers",
          "% of Education workers",
          "% of Health workers",
          "% of Arts, entertainment and recreation workers",
          "% of Other services workers",
          "Dwellings per hectare",
          "Average number of homeless people per 1000",
          "Attainment",
          "Happiness score out of 10",
          "Anxiety score out of 10",
          "Worthwhile score out of 10",
          "Life satisfaction score out of 10",
          "Ratio of house prices to earnings",
          "Wage per hour",
          "Population per hectare",
          "Life expectancy of men at 65",
          "Life expectancy of women at 65",
          "% of Public sector jobs",
          "% of Private sector jobs",
          "Proportion of seats won by Conservatives",
          "Proportion of seats won by Labour",
          "Proportion of seats won by Liberal Democrats",
          "Consumer expenditure on Alcoholic beverages (£mn)",
          "Consumer expenditure on Pubs and Wine bars (£mn)"
         ],
         "xaxis": "x",
         "y": [
          0.0036300400775677527,
          0.03447704184669269,
          0.009283015865601464,
          0.00944611048493943,
          0.00589559941922008,
          0.016652689167924666,
          0.04138333192222088,
          0.012706425206270848,
          0.007642478794369673,
          0.0025684554172086364,
          0.006847886158560568,
          0.015817103974361816,
          0.04781248344860278,
          0.3131324516208583,
          0.006243796491063873,
          0.012992578149029727,
          0.2158486800578927,
          0.005408632963616645,
          0.005593393155528935,
          0.0020282935378086258,
          0.0055436972386053995,
          0.007354568652875035,
          0.0010932792594303285,
          0.0033910570857537585,
          0.01119566053115787,
          0.02809849989424336,
          0.12359731072209178,
          0.008033993011375999,
          0.00538416050370891,
          0.006426794363425532,
          0.0007215412914880851,
          0.009614896132328058,
          0.0011150150682114847,
          0.005012476019599306,
          0.008006562466365148
         ],
         "yaxis": "y"
        }
       ],
       "layout": {
        "autosize": true,
        "barmode": "relative",
        "legend": {
         "tracegroupgap": 0
        },
        "margin": {
         "t": 60
        },
        "template": {
         "data": {
          "bar": [
           {
            "error_x": {
             "color": "#2a3f5f"
            },
            "error_y": {
             "color": "#2a3f5f"
            },
            "marker": {
             "line": {
              "color": "#E5ECF6",
              "width": 0.5
             },
             "pattern": {
              "fillmode": "overlay",
              "size": 10,
              "solidity": 0.2
             }
            },
            "type": "bar"
           }
          ],
          "barpolar": [
           {
            "marker": {
             "line": {
              "color": "#E5ECF6",
              "width": 0.5
             },
             "pattern": {
              "fillmode": "overlay",
              "size": 10,
              "solidity": 0.2
             }
            },
            "type": "barpolar"
           }
          ],
          "carpet": [
           {
            "aaxis": {
             "endlinecolor": "#2a3f5f",
             "gridcolor": "white",
             "linecolor": "white",
             "minorgridcolor": "white",
             "startlinecolor": "#2a3f5f"
            },
            "baxis": {
             "endlinecolor": "#2a3f5f",
             "gridcolor": "white",
             "linecolor": "white",
             "minorgridcolor": "white",
             "startlinecolor": "#2a3f5f"
            },
            "type": "carpet"
           }
          ],
          "choropleth": [
           {
            "colorbar": {
             "outlinewidth": 0,
             "ticks": ""
            },
            "type": "choropleth"
           }
          ],
          "contour": [
           {
            "colorbar": {
             "outlinewidth": 0,
             "ticks": ""
            },
            "colorscale": [
             [
              0,
              "#0d0887"
             ],
             [
              0.1111111111111111,
              "#46039f"
             ],
             [
              0.2222222222222222,
              "#7201a8"
             ],
             [
              0.3333333333333333,
              "#9c179e"
             ],
             [
              0.4444444444444444,
              "#bd3786"
             ],
             [
              0.5555555555555556,
              "#d8576b"
             ],
             [
              0.6666666666666666,
              "#ed7953"
             ],
             [
              0.7777777777777778,
              "#fb9f3a"
             ],
             [
              0.8888888888888888,
              "#fdca26"
             ],
             [
              1,
              "#f0f921"
             ]
            ],
            "type": "contour"
           }
          ],
          "contourcarpet": [
           {
            "colorbar": {
             "outlinewidth": 0,
             "ticks": ""
            },
            "type": "contourcarpet"
           }
          ],
          "heatmap": [
           {
            "colorbar": {
             "outlinewidth": 0,
             "ticks": ""
            },
            "colorscale": [
             [
              0,
              "#0d0887"
             ],
             [
              0.1111111111111111,
              "#46039f"
             ],
             [
              0.2222222222222222,
              "#7201a8"
             ],
             [
              0.3333333333333333,
              "#9c179e"
             ],
             [
              0.4444444444444444,
              "#bd3786"
             ],
             [
              0.5555555555555556,
              "#d8576b"
             ],
             [
              0.6666666666666666,
              "#ed7953"
             ],
             [
              0.7777777777777778,
              "#fb9f3a"
             ],
             [
              0.8888888888888888,
              "#fdca26"
             ],
             [
              1,
              "#f0f921"
             ]
            ],
            "type": "heatmap"
           }
          ],
          "heatmapgl": [
           {
            "colorbar": {
             "outlinewidth": 0,
             "ticks": ""
            },
            "colorscale": [
             [
              0,
              "#0d0887"
             ],
             [
              0.1111111111111111,
              "#46039f"
             ],
             [
              0.2222222222222222,
              "#7201a8"
             ],
             [
              0.3333333333333333,
              "#9c179e"
             ],
             [
              0.4444444444444444,
              "#bd3786"
             ],
             [
              0.5555555555555556,
              "#d8576b"
             ],
             [
              0.6666666666666666,
              "#ed7953"
             ],
             [
              0.7777777777777778,
              "#fb9f3a"
             ],
             [
              0.8888888888888888,
              "#fdca26"
             ],
             [
              1,
              "#f0f921"
             ]
            ],
            "type": "heatmapgl"
           }
          ],
          "histogram": [
           {
            "marker": {
             "pattern": {
              "fillmode": "overlay",
              "size": 10,
              "solidity": 0.2
             }
            },
            "type": "histogram"
           }
          ],
          "histogram2d": [
           {
            "colorbar": {
             "outlinewidth": 0,
             "ticks": ""
            },
            "colorscale": [
             [
              0,
              "#0d0887"
             ],
             [
              0.1111111111111111,
              "#46039f"
             ],
             [
              0.2222222222222222,
              "#7201a8"
             ],
             [
              0.3333333333333333,
              "#9c179e"
             ],
             [
              0.4444444444444444,
              "#bd3786"
             ],
             [
              0.5555555555555556,
              "#d8576b"
             ],
             [
              0.6666666666666666,
              "#ed7953"
             ],
             [
              0.7777777777777778,
              "#fb9f3a"
             ],
             [
              0.8888888888888888,
              "#fdca26"
             ],
             [
              1,
              "#f0f921"
             ]
            ],
            "type": "histogram2d"
           }
          ],
          "histogram2dcontour": [
           {
            "colorbar": {
             "outlinewidth": 0,
             "ticks": ""
            },
            "colorscale": [
             [
              0,
              "#0d0887"
             ],
             [
              0.1111111111111111,
              "#46039f"
             ],
             [
              0.2222222222222222,
              "#7201a8"
             ],
             [
              0.3333333333333333,
              "#9c179e"
             ],
             [
              0.4444444444444444,
              "#bd3786"
             ],
             [
              0.5555555555555556,
              "#d8576b"
             ],
             [
              0.6666666666666666,
              "#ed7953"
             ],
             [
              0.7777777777777778,
              "#fb9f3a"
             ],
             [
              0.8888888888888888,
              "#fdca26"
             ],
             [
              1,
              "#f0f921"
             ]
            ],
            "type": "histogram2dcontour"
           }
          ],
          "mesh3d": [
           {
            "colorbar": {
             "outlinewidth": 0,
             "ticks": ""
            },
            "type": "mesh3d"
           }
          ],
          "parcoords": [
           {
            "line": {
             "colorbar": {
              "outlinewidth": 0,
              "ticks": ""
             }
            },
            "type": "parcoords"
           }
          ],
          "pie": [
           {
            "automargin": true,
            "type": "pie"
           }
          ],
          "scatter": [
           {
            "fillpattern": {
             "fillmode": "overlay",
             "size": 10,
             "solidity": 0.2
            },
            "type": "scatter"
           }
          ],
          "scatter3d": [
           {
            "line": {
             "colorbar": {
              "outlinewidth": 0,
              "ticks": ""
             }
            },
            "marker": {
             "colorbar": {
              "outlinewidth": 0,
              "ticks": ""
             }
            },
            "type": "scatter3d"
           }
          ],
          "scattercarpet": [
           {
            "marker": {
             "colorbar": {
              "outlinewidth": 0,
              "ticks": ""
             }
            },
            "type": "scattercarpet"
           }
          ],
          "scattergeo": [
           {
            "marker": {
             "colorbar": {
              "outlinewidth": 0,
              "ticks": ""
             }
            },
            "type": "scattergeo"
           }
          ],
          "scattergl": [
           {
            "marker": {
             "colorbar": {
              "outlinewidth": 0,
              "ticks": ""
             }
            },
            "type": "scattergl"
           }
          ],
          "scattermapbox": [
           {
            "marker": {
             "colorbar": {
              "outlinewidth": 0,
              "ticks": ""
             }
            },
            "type": "scattermapbox"
           }
          ],
          "scatterpolar": [
           {
            "marker": {
             "colorbar": {
              "outlinewidth": 0,
              "ticks": ""
             }
            },
            "type": "scatterpolar"
           }
          ],
          "scatterpolargl": [
           {
            "marker": {
             "colorbar": {
              "outlinewidth": 0,
              "ticks": ""
             }
            },
            "type": "scatterpolargl"
           }
          ],
          "scatterternary": [
           {
            "marker": {
             "colorbar": {
              "outlinewidth": 0,
              "ticks": ""
             }
            },
            "type": "scatterternary"
           }
          ],
          "surface": [
           {
            "colorbar": {
             "outlinewidth": 0,
             "ticks": ""
            },
            "colorscale": [
             [
              0,
              "#0d0887"
             ],
             [
              0.1111111111111111,
              "#46039f"
             ],
             [
              0.2222222222222222,
              "#7201a8"
             ],
             [
              0.3333333333333333,
              "#9c179e"
             ],
             [
              0.4444444444444444,
              "#bd3786"
             ],
             [
              0.5555555555555556,
              "#d8576b"
             ],
             [
              0.6666666666666666,
              "#ed7953"
             ],
             [
              0.7777777777777778,
              "#fb9f3a"
             ],
             [
              0.8888888888888888,
              "#fdca26"
             ],
             [
              1,
              "#f0f921"
             ]
            ],
            "type": "surface"
           }
          ],
          "table": [
           {
            "cells": {
             "fill": {
              "color": "#EBF0F8"
             },
             "line": {
              "color": "white"
             }
            },
            "header": {
             "fill": {
              "color": "#C8D4E3"
             },
             "line": {
              "color": "white"
             }
            },
            "type": "table"
           }
          ]
         },
         "layout": {
          "annotationdefaults": {
           "arrowcolor": "#2a3f5f",
           "arrowhead": 0,
           "arrowwidth": 1
          },
          "autotypenumbers": "strict",
          "coloraxis": {
           "colorbar": {
            "outlinewidth": 0,
            "ticks": ""
           }
          },
          "colorscale": {
           "diverging": [
            [
             0,
             "#8e0152"
            ],
            [
             0.1,
             "#c51b7d"
            ],
            [
             0.2,
             "#de77ae"
            ],
            [
             0.3,
             "#f1b6da"
            ],
            [
             0.4,
             "#fde0ef"
            ],
            [
             0.5,
             "#f7f7f7"
            ],
            [
             0.6,
             "#e6f5d0"
            ],
            [
             0.7,
             "#b8e186"
            ],
            [
             0.8,
             "#7fbc41"
            ],
            [
             0.9,
             "#4d9221"
            ],
            [
             1,
             "#276419"
            ]
           ],
           "sequential": [
            [
             0,
             "#0d0887"
            ],
            [
             0.1111111111111111,
             "#46039f"
            ],
            [
             0.2222222222222222,
             "#7201a8"
            ],
            [
             0.3333333333333333,
             "#9c179e"
            ],
            [
             0.4444444444444444,
             "#bd3786"
            ],
            [
             0.5555555555555556,
             "#d8576b"
            ],
            [
             0.6666666666666666,
             "#ed7953"
            ],
            [
             0.7777777777777778,
             "#fb9f3a"
            ],
            [
             0.8888888888888888,
             "#fdca26"
            ],
            [
             1,
             "#f0f921"
            ]
           ],
           "sequentialminus": [
            [
             0,
             "#0d0887"
            ],
            [
             0.1111111111111111,
             "#46039f"
            ],
            [
             0.2222222222222222,
             "#7201a8"
            ],
            [
             0.3333333333333333,
             "#9c179e"
            ],
            [
             0.4444444444444444,
             "#bd3786"
            ],
            [
             0.5555555555555556,
             "#d8576b"
            ],
            [
             0.6666666666666666,
             "#ed7953"
            ],
            [
             0.7777777777777778,
             "#fb9f3a"
            ],
            [
             0.8888888888888888,
             "#fdca26"
            ],
            [
             1,
             "#f0f921"
            ]
           ]
          },
          "colorway": [
           "#636efa",
           "#EF553B",
           "#00cc96",
           "#ab63fa",
           "#FFA15A",
           "#19d3f3",
           "#FF6692",
           "#B6E880",
           "#FF97FF",
           "#FECB52"
          ],
          "font": {
           "color": "#2a3f5f"
          },
          "geo": {
           "bgcolor": "white",
           "lakecolor": "white",
           "landcolor": "#E5ECF6",
           "showlakes": true,
           "showland": true,
           "subunitcolor": "white"
          },
          "hoverlabel": {
           "align": "left"
          },
          "hovermode": "closest",
          "mapbox": {
           "style": "light"
          },
          "paper_bgcolor": "white",
          "plot_bgcolor": "#E5ECF6",
          "polar": {
           "angularaxis": {
            "gridcolor": "white",
            "linecolor": "white",
            "ticks": ""
           },
           "bgcolor": "#E5ECF6",
           "radialaxis": {
            "gridcolor": "white",
            "linecolor": "white",
            "ticks": ""
           }
          },
          "scene": {
           "xaxis": {
            "backgroundcolor": "#E5ECF6",
            "gridcolor": "white",
            "gridwidth": 2,
            "linecolor": "white",
            "showbackground": true,
            "ticks": "",
            "zerolinecolor": "white"
           },
           "yaxis": {
            "backgroundcolor": "#E5ECF6",
            "gridcolor": "white",
            "gridwidth": 2,
            "linecolor": "white",
            "showbackground": true,
            "ticks": "",
            "zerolinecolor": "white"
           },
           "zaxis": {
            "backgroundcolor": "#E5ECF6",
            "gridcolor": "white",
            "gridwidth": 2,
            "linecolor": "white",
            "showbackground": true,
            "ticks": "",
            "zerolinecolor": "white"
           }
          },
          "shapedefaults": {
           "line": {
            "color": "#2a3f5f"
           }
          },
          "ternary": {
           "aaxis": {
            "gridcolor": "white",
            "linecolor": "white",
            "ticks": ""
           },
           "baxis": {
            "gridcolor": "white",
            "linecolor": "white",
            "ticks": ""
           },
           "bgcolor": "#E5ECF6",
           "caxis": {
            "gridcolor": "white",
            "linecolor": "white",
            "ticks": ""
           }
          },
          "title": {
           "x": 0.05
          },
          "xaxis": {
           "automargin": true,
           "gridcolor": "white",
           "linecolor": "white",
           "ticks": "",
           "title": {
            "standoff": 15
           },
           "zerolinecolor": "white",
           "zerolinewidth": 2
          },
          "yaxis": {
           "automargin": true,
           "gridcolor": "white",
           "linecolor": "white",
           "ticks": "",
           "title": {
            "standoff": 15
           },
           "zerolinecolor": "white",
           "zerolinewidth": 2
          }
         }
        },
        "xaxis": {
         "anchor": "y",
         "autorange": true,
         "domain": [
          0,
          1
         ],
         "range": [
          -0.5,
          34.5
         ],
         "title": {
          "text": "Borough Attribute"
         },
         "type": "category"
        },
        "yaxis": {
         "anchor": "x",
         "autorange": true,
         "domain": [
          0,
          1
         ],
         "range": [
          0,
          0.3296131069693245
         ],
         "title": {
          "text": "Importance score"
         },
         "type": "linear"
        }
       }
      },
      "image/png": "[encoded data removed]",
      "text/html": [
       "<div>                            <div id=\"830ea921-7365-4d6b-a64f-d8d40b5f2d08\" class=\"plotly-graph-div\" style=\"height:525px; width:100%;\"></div>            <script type=\"text/javascript\">                require([\"plotly\"], function(Plotly) {                    window.PLOTLYENV=window.PLOTLYENV || {};                                    if (document.getElementById(\"830ea921-7365-4d6b-a64f-d8d40b5f2d08\")) {                    Plotly.newPlot(                        \"830ea921-7365-4d6b-a64f-d8d40b5f2d08\",                        [{\"alignmentgroup\":\"True\",\"hovertemplate\":\"Borough Attribute=%{x}<br>Importance score=%{y}<extra></extra>\",\"legendgroup\":\"\",\"marker\":{\"color\":\"#636efa\",\"pattern\":{\"shape\":\"\"}},\"name\":\"\",\"offsetgroup\":\"\",\"orientation\":\"v\",\"showlegend\":false,\"textposition\":\"auto\",\"x\":[\"% of Primary & Utilities workers\",\"% of Manufacturing workers\",\"% of Construction workers\",\"% of Wholesale workers\",\"% of Retail workers\",\"% of Transportation and Storage workers\",\"% of Accomodation and food service activities workers\",\"% of Information and Communication workers\",\"% of Financial and insurance activities workers\",\"% of Professional, Real Estate, Scientific and technical activities workers\",\"% of Administrative and support service activities workers\",\"% of Public Admin and defence workers\",\"% of Education workers\",\"% of Health workers\",\"% of Arts, entertainment and recreation workers\",\"% of Other services workers\",\"Dwellings per hectare\",\"Average number of homeless people per 1000\",\"Attainment\",\"Happiness score out of 10\",\"Anxiety score out of 10\",\"Worthwhile score out of 10\",\"Life satisfaction score out of 10\",\"Ratio of house prices to earnings\",\"Wage per hour\",\"Population per hectare\",\"Life expectancy of men at 65\",\"Life expectancy of women at 65\",\"% of Public sector jobs\",\"% of Private sector jobs\",\"Proportion of seats won by Conservatives\",\"Proportion of seats won by Labour\",\"Proportion of seats won by Liberal Democrats\",\"Consumer expenditure on Alcoholic beverages (\\u00a3mn)\",\"Consumer expenditure on Pubs and Wine bars (\\u00a3mn)\"],\"xaxis\":\"x\",\"y\":[0.0036300400775677527,0.03447704184669269,0.009283015865601464,0.00944611048493943,0.00589559941922008,0.016652689167924666,0.04138333192222088,0.012706425206270848,0.007642478794369673,0.0025684554172086364,0.006847886158560568,0.015817103974361816,0.04781248344860278,0.3131324516208583,0.006243796491063873,0.012992578149029727,0.2158486800578927,0.005408632963616645,0.005593393155528935,0.0020282935378086258,0.0055436972386053995,0.007354568652875035,0.0010932792594303285,0.0033910570857537585,0.01119566053115787,0.02809849989424336,0.12359731072209178,0.008033993011375999,0.00538416050370891,0.006426794363425532,0.0007215412914880851,0.009614896132328058,0.0011150150682114847,0.005012476019599306,0.008006562466365148],\"yaxis\":\"y\",\"type\":\"bar\"}],                        {\"template\":{\"data\":{\"histogram2dcontour\":[{\"type\":\"histogram2dcontour\",\"colorbar\":{\"outlinewidth\":0,\"ticks\":\"\"},\"colorscale\":[[0.0,\"#0d0887\"],[0.1111111111111111,\"#46039f\"],[0.2222222222222222,\"#7201a8\"],[0.3333333333333333,\"#9c179e\"],[0.4444444444444444,\"#bd3786\"],[0.5555555555555556,\"#d8576b\"],[0.6666666666666666,\"#ed7953\"],[0.7777777777777778,\"#fb9f3a\"],[0.8888888888888888,\"#fdca26\"],[1.0,\"#f0f921\"]]}],\"choropleth\":[{\"type\":\"choropleth\",\"colorbar\":{\"outlinewidth\":0,\"ticks\":\"\"}}],\"histogram2d\":[{\"type\":\"histogram2d\",\"colorbar\":{\"outlinewidth\":0,\"ticks\":\"\"},\"colorscale\":[[0.0,\"#0d0887\"],[0.1111111111111111,\"#46039f\"],[0.2222222222222222,\"#7201a8\"],[0.3333333333333333,\"#9c179e\"],[0.4444444444444444,\"#bd3786\"],[0.5555555555555556,\"#d8576b\"],[0.6666666666666666,\"#ed7953\"],[0.7777777777777778,\"#fb9f3a\"],[0.8888888888888888,\"#fdca26\"],[1.0,\"#f0f921\"]]}],\"heatmap\":[{\"type\":\"heatmap\",\"colorbar\":{\"outlinewidth\":0,\"ticks\":\"\"},\"colorscale\":[[0.0,\"#0d0887\"],[0.1111111111111111,\"#46039f\"],[0.2222222222222222,\"#7201a8\"],[0.3333333333333333,\"#9c179e\"],[0.4444444444444444,\"#bd3786\"],[0.5555555555555556,\"#d8576b\"],[0.6666666666666666,\"#ed7953\"],[0.7777777777777778,\"#fb9f3a\"],[0.8888888888888888,\"#fdca26\"],[1.0,\"#f0f921\"]]}],\"heatmapgl\":[{\"type\":\"heatmapgl\",\"colorbar\":{\"outlinewidth\":0,\"ticks\":\"\"},\"colorscale\":[[0.0,\"#0d0887\"],[0.1111111111111111,\"#46039f\"],[0.2222222222222222,\"#7201a8\"],[0.3333333333333333,\"#9c179e\"],[0.4444444444444444,\"#bd3786\"],[0.5555555555555556,\"#d8576b\"],[0.6666666666666666,\"#ed7953\"],[0.7777777777777778,\"#fb9f3a\"],[0.8888888888888888,\"#fdca26\"],[1.0,\"#f0f921\"]]}],\"contourcarpet\":[{\"type\":\"contourcarpet\",\"colorbar\":{\"outlinewidth\":0,\"ticks\":\"\"}}],\"contour\":[{\"type\":\"contour\",\"colorbar\":{\"outlinewidth\":0,\"ticks\":\"\"},\"colorscale\":[[0.0,\"#0d0887\"],[0.1111111111111111,\"#46039f\"],[0.2222222222222222,\"#7201a8\"],[0.3333333333333333,\"#9c179e\"],[0.4444444444444444,\"#bd3786\"],[0.5555555555555556,\"#d8576b\"],[0.6666666666666666,\"#ed7953\"],[0.7777777777777778,\"#fb9f3a\"],[0.8888888888888888,\"#fdca26\"],[1.0,\"#f0f921\"]]}],\"surface\":[{\"type\":\"surface\",\"colorbar\":{\"outlinewidth\":0,\"ticks\":\"\"},\"colorscale\":[[0.0,\"#0d0887\"],[0.1111111111111111,\"#46039f\"],[0.2222222222222222,\"#7201a8\"],[0.3333333333333333,\"#9c179e\"],[0.4444444444444444,\"#bd3786\"],[0.5555555555555556,\"#d8576b\"],[0.6666666666666666,\"#ed7953\"],[0.7777777777777778,\"#fb9f3a\"],[0.8888888888888888,\"#fdca26\"],[1.0,\"#f0f921\"]]}],\"mesh3d\":[{\"type\":\"mesh3d\",\"colorbar\":{\"outlinewidth\":0,\"ticks\":\"\"}}],\"scatter\":[{\"fillpattern\":{\"fillmode\":\"overlay\",\"size\":10,\"solidity\":0.2},\"type\":\"scatter\"}],\"parcoords\":[{\"type\":\"parcoords\",\"line\":{\"colorbar\":{\"outlinewidth\":0,\"ticks\":\"\"}}}],\"scatterpolargl\":[{\"type\":\"scatterpolargl\",\"marker\":{\"colorbar\":{\"outlinewidth\":0,\"ticks\":\"\"}}}],\"bar\":[{\"error_x\":{\"color\":\"#2a3f5f\"},\"error_y\":{\"color\":\"#2a3f5f\"},\"marker\":{\"line\":{\"color\":\"#E5ECF6\",\"width\":0.5},\"pattern\":{\"fillmode\":\"overlay\",\"size\":10,\"solidity\":0.2}},\"type\":\"bar\"}],\"scattergeo\":[{\"type\":\"scattergeo\",\"marker\":{\"colorbar\":{\"outlinewidth\":0,\"ticks\":\"\"}}}],\"scatterpolar\":[{\"type\":\"scatterpolar\",\"marker\":{\"colorbar\":{\"outlinewidth\":0,\"ticks\":\"\"}}}],\"histogram\":[{\"marker\":{\"pattern\":{\"fillmode\":\"overlay\",\"size\":10,\"solidity\":0.2}},\"type\":\"histogram\"}],\"scattergl\":[{\"type\":\"scattergl\",\"marker\":{\"colorbar\":{\"outlinewidth\":0,\"ticks\":\"\"}}}],\"scatter3d\":[{\"type\":\"scatter3d\",\"line\":{\"colorbar\":{\"outlinewidth\":0,\"ticks\":\"\"}},\"marker\":{\"colorbar\":{\"outlinewidth\":0,\"ticks\":\"\"}}}],\"scattermapbox\":[{\"type\":\"scattermapbox\",\"marker\":{\"colorbar\":{\"outlinewidth\":0,\"ticks\":\"\"}}}],\"scatterternary\":[{\"type\":\"scatterternary\",\"marker\":{\"colorbar\":{\"outlinewidth\":0,\"ticks\":\"\"}}}],\"scattercarpet\":[{\"type\":\"scattercarpet\",\"marker\":{\"colorbar\":{\"outlinewidth\":0,\"ticks\":\"\"}}}],\"carpet\":[{\"aaxis\":{\"endlinecolor\":\"#2a3f5f\",\"gridcolor\":\"white\",\"linecolor\":\"white\",\"minorgridcolor\":\"white\",\"startlinecolor\":\"#2a3f5f\"},\"baxis\":{\"endlinecolor\":\"#2a3f5f\",\"gridcolor\":\"white\",\"linecolor\":\"white\",\"minorgridcolor\":\"white\",\"startlinecolor\":\"#2a3f5f\"},\"type\":\"carpet\"}],\"table\":[{\"cells\":{\"fill\":{\"color\":\"#EBF0F8\"},\"line\":{\"color\":\"white\"}},\"header\":{\"fill\":{\"color\":\"#C8D4E3\"},\"line\":{\"color\":\"white\"}},\"type\":\"table\"}],\"barpolar\":[{\"marker\":{\"line\":{\"color\":\"#E5ECF6\",\"width\":0.5},\"pattern\":{\"fillmode\":\"overlay\",\"size\":10,\"solidity\":0.2}},\"type\":\"barpolar\"}],\"pie\":[{\"automargin\":true,\"type\":\"pie\"}]},\"layout\":{\"autotypenumbers\":\"strict\",\"colorway\":[\"#636efa\",\"#EF553B\",\"#00cc96\",\"#ab63fa\",\"#FFA15A\",\"#19d3f3\",\"#FF6692\",\"#B6E880\",\"#FF97FF\",\"#FECB52\"],\"font\":{\"color\":\"#2a3f5f\"},\"hovermode\":\"closest\",\"hoverlabel\":{\"align\":\"left\"},\"paper_bgcolor\":\"white\",\"plot_bgcolor\":\"#E5ECF6\",\"polar\":{\"bgcolor\":\"#E5ECF6\",\"angularaxis\":{\"gridcolor\":\"white\",\"linecolor\":\"white\",\"ticks\":\"\"},\"radialaxis\":{\"gridcolor\":\"white\",\"linecolor\":\"white\",\"ticks\":\"\"}},\"ternary\":{\"bgcolor\":\"#E5ECF6\",\"aaxis\":{\"gridcolor\":\"white\",\"linecolor\":\"white\",\"ticks\":\"\"},\"baxis\":{\"gridcolor\":\"white\",\"linecolor\":\"white\",\"ticks\":\"\"},\"caxis\":{\"gridcolor\":\"white\",\"linecolor\":\"white\",\"ticks\":\"\"}},\"coloraxis\":{\"colorbar\":{\"outlinewidth\":0,\"ticks\":\"\"}},\"colorscale\":{\"sequential\":[[0.0,\"#0d0887\"],[0.1111111111111111,\"#46039f\"],[0.2222222222222222,\"#7201a8\"],[0.3333333333333333,\"#9c179e\"],[0.4444444444444444,\"#bd3786\"],[0.5555555555555556,\"#d8576b\"],[0.6666666666666666,\"#ed7953\"],[0.7777777777777778,\"#fb9f3a\"],[0.8888888888888888,\"#fdca26\"],[1.0,\"#f0f921\"]],\"sequentialminus\":[[0.0,\"#0d0887\"],[0.1111111111111111,\"#46039f\"],[0.2222222222222222,\"#7201a8\"],[0.3333333333333333,\"#9c179e\"],[0.4444444444444444,\"#bd3786\"],[0.5555555555555556,\"#d8576b\"],[0.6666666666666666,\"#ed7953\"],[0.7777777777777778,\"#fb9f3a\"],[0.8888888888888888,\"#fdca26\"],[1.0,\"#f0f921\"]],\"diverging\":[[0,\"#8e0152\"],[0.1,\"#c51b7d\"],[0.2,\"#de77ae\"],[0.3,\"#f1b6da\"],[0.4,\"#fde0ef\"],[0.5,\"#f7f7f7\"],[0.6,\"#e6f5d0\"],[0.7,\"#b8e186\"],[0.8,\"#7fbc41\"],[0.9,\"#4d9221\"],[1,\"#276419\"]]},\"xaxis\":{\"gridcolor\":\"white\",\"linecolor\":\"white\",\"ticks\":\"\",\"title\":{\"standoff\":15},\"zerolinecolor\":\"white\",\"automargin\":true,\"zerolinewidth\":2},\"yaxis\":{\"gridcolor\":\"white\",\"linecolor\":\"white\",\"ticks\":\"\",\"title\":{\"standoff\":15},\"zerolinecolor\":\"white\",\"automargin\":true,\"zerolinewidth\":2},\"scene\":{\"xaxis\":{\"backgroundcolor\":\"#E5ECF6\",\"gridcolor\":\"white\",\"linecolor\":\"white\",\"showbackground\":true,\"ticks\":\"\",\"zerolinecolor\":\"white\",\"gridwidth\":2},\"yaxis\":{\"backgroundcolor\":\"#E5ECF6\",\"gridcolor\":\"white\",\"linecolor\":\"white\",\"showbackground\":true,\"ticks\":\"\",\"zerolinecolor\":\"white\",\"gridwidth\":2},\"zaxis\":{\"backgroundcolor\":\"#E5ECF6\",\"gridcolor\":\"white\",\"linecolor\":\"white\",\"showbackground\":true,\"ticks\":\"\",\"zerolinecolor\":\"white\",\"gridwidth\":2}},\"shapedefaults\":{\"line\":{\"color\":\"#2a3f5f\"}},\"annotationdefaults\":{\"arrowcolor\":\"#2a3f5f\",\"arrowhead\":0,\"arrowwidth\":1},\"geo\":{\"bgcolor\":\"white\",\"landcolor\":\"#E5ECF6\",\"subunitcolor\":\"white\",\"showland\":true,\"showlakes\":true,\"lakecolor\":\"white\"},\"title\":{\"x\":0.05},\"mapbox\":{\"style\":\"light\"}}},\"xaxis\":{\"anchor\":\"y\",\"domain\":[0.0,1.0],\"title\":{\"text\":\"Borough Attribute\"}},\"yaxis\":{\"anchor\":\"x\",\"domain\":[0.0,1.0],\"title\":{\"text\":\"Importance score\"}},\"legend\":{\"tracegroupgap\":0},\"margin\":{\"t\":60},\"barmode\":\"relative\"},                        {\"responsive\": true}                    ).then(function(){\n",
       "                            \n",
       "var gd = document.getElementById('830ea921-7365-4d6b-a64f-d8d40b5f2d08');\n",
       "var x = new MutationObserver(function (mutations, observer) {{\n",
       "        var display = window.getComputedStyle(gd).display;\n",
       "        if (!display || display === 'none') {{\n",
       "            console.log([gd, 'removed!']);\n",
       "            Plotly.purge(gd);\n",
       "            observer.disconnect();\n",
       "        }}\n",
       "}});\n",
       "\n",
       "// Listen for the removal of the full notebook cells\n",
       "var notebookContainer = gd.closest('#notebook-container');\n",
       "if (notebookContainer) {{\n",
       "    x.observe(notebookContainer, {childList: true});\n",
       "}}\n",
       "\n",
       "// Listen for the clearing of the current output cell\n",
       "var outputEl = gd.closest('.output');\n",
       "if (outputEl) {{\n",
       "    x.observe(outputEl, {childList: true});\n",
       "}}\n",
       "\n",
       "                        })                };                });            </script>        </div>"
      ]
     },
     "metadata": {},
     "output_type": "display_data"
    }
   ],
   "source": [
    "# Get the feature importances\n",
    "importances = regressor.feature_importances_\n",
    "\n",
    "# Create a bar chart using the px.bar() function\n",
    "fig = px.bar(\n",
    "    x=X_train.columns,\n",
    "    y=importances,\n",
    "    labels={'x': 'Borough Attribute', 'y': 'Importance score'}\n",
    ")\n",
    "\n",
    "# Show the plot\n",
    "fig.show()\n"
   ]
  },
  {
   "cell_type": "markdown",
   "id": "0f285d09-9b07-42b3-89fa-9d400e2cdc25",
   "metadata": {},
   "source": [
    "We can rank the plot above from lowest importance, to most important \"Borough attribute\"."
   ]
  },
  {
   "cell_type": "code",
   "execution_count": 18,
   "id": "498fc84f-542f-41bf-a791-37e9747ed3c3",
   "metadata": {},
   "outputs": [
    {
     "data": {
      "application/vnd.plotly.v1+json": {
       "config": {
        "plotlyServerURL": "https://plot.ly"
       },
       "data": [
        {
         "alignmentgroup": "True",
         "hovertemplate": "Feature=%{x}<br>Importance=%{y}<extra></extra>",
         "legendgroup": "",
         "marker": {
          "color": "#636efa",
          "pattern": {
           "shape": ""
          }
         },
         "name": "",
         "offsetgroup": "",
         "orientation": "v",
         "showlegend": false,
         "textposition": "auto",
         "type": "bar",
         "x": [
          "Proportion of seats won by Conservatives",
          "Life satisfaction score out of 10",
          "Proportion of seats won by Liberal Democrats",
          "Happiness score out of 10",
          "% of Professional, Real Estate, Scientific and technical activities workers",
          "Ratio of house prices to earnings",
          "% of Primary & Utilities workers",
          "Consumer expenditure on Alcoholic beverages (£mn)",
          "% of Public sector jobs",
          "Average number of homeless people per 1000",
          "Anxiety score out of 10",
          "Attainment",
          "% of Retail workers",
          "% of Arts, entertainment and recreation workers",
          "% of Private sector jobs",
          "% of Administrative and support service activities workers",
          "Worthwhile score out of 10",
          "% of Financial and insurance activities workers",
          "Consumer expenditure on Pubs and Wine bars (£mn)",
          "Life expectancy of women at 65",
          "% of Construction workers",
          "% of Wholesale workers",
          "Proportion of seats won by Labour",
          "Wage per hour",
          "% of Information and Communication workers",
          "% of Other services workers",
          "% of Public Admin and defence workers",
          "% of Transportation and Storage workers",
          "Population per hectare",
          "% of Manufacturing workers",
          "% of Accomodation and food service activities workers",
          "% of Education workers",
          "Life expectancy of men at 65",
          "Dwellings per hectare",
          "% of Health workers"
         ],
         "xaxis": "x",
         "y": [
          0.0007215412914880851,
          0.0010932792594303285,
          0.0011150150682114847,
          0.0020282935378086258,
          0.0025684554172086364,
          0.0033910570857537585,
          0.0036300400775677527,
          0.005012476019599306,
          0.00538416050370891,
          0.005408632963616645,
          0.0055436972386053995,
          0.005593393155528935,
          0.00589559941922008,
          0.006243796491063873,
          0.006426794363425532,
          0.006847886158560568,
          0.007354568652875035,
          0.007642478794369673,
          0.008006562466365148,
          0.008033993011375999,
          0.009283015865601464,
          0.00944611048493943,
          0.009614896132328058,
          0.01119566053115787,
          0.012706425206270848,
          0.012992578149029727,
          0.015817103974361816,
          0.016652689167924666,
          0.02809849989424336,
          0.03447704184669269,
          0.04138333192222088,
          0.04781248344860278,
          0.12359731072209178,
          0.2158486800578927,
          0.3131324516208583
         ],
         "yaxis": "y"
        }
       ],
       "layout": {
        "autosize": true,
        "barmode": "relative",
        "legend": {
         "tracegroupgap": 0
        },
        "margin": {
         "t": 60
        },
        "template": {
         "data": {
          "bar": [
           {
            "error_x": {
             "color": "#2a3f5f"
            },
            "error_y": {
             "color": "#2a3f5f"
            },
            "marker": {
             "line": {
              "color": "#E5ECF6",
              "width": 0.5
             },
             "pattern": {
              "fillmode": "overlay",
              "size": 10,
              "solidity": 0.2
             }
            },
            "type": "bar"
           }
          ],
          "barpolar": [
           {
            "marker": {
             "line": {
              "color": "#E5ECF6",
              "width": 0.5
             },
             "pattern": {
              "fillmode": "overlay",
              "size": 10,
              "solidity": 0.2
             }
            },
            "type": "barpolar"
           }
          ],
          "carpet": [
           {
            "aaxis": {
             "endlinecolor": "#2a3f5f",
             "gridcolor": "white",
             "linecolor": "white",
             "minorgridcolor": "white",
             "startlinecolor": "#2a3f5f"
            },
            "baxis": {
             "endlinecolor": "#2a3f5f",
             "gridcolor": "white",
             "linecolor": "white",
             "minorgridcolor": "white",
             "startlinecolor": "#2a3f5f"
            },
            "type": "carpet"
           }
          ],
          "choropleth": [
           {
            "colorbar": {
             "outlinewidth": 0,
             "ticks": ""
            },
            "type": "choropleth"
           }
          ],
          "contour": [
           {
            "colorbar": {
             "outlinewidth": 0,
             "ticks": ""
            },
            "colorscale": [
             [
              0,
              "#0d0887"
             ],
             [
              0.1111111111111111,
              "#46039f"
             ],
             [
              0.2222222222222222,
              "#7201a8"
             ],
             [
              0.3333333333333333,
              "#9c179e"
             ],
             [
              0.4444444444444444,
              "#bd3786"
             ],
             [
              0.5555555555555556,
              "#d8576b"
             ],
             [
              0.6666666666666666,
              "#ed7953"
             ],
             [
              0.7777777777777778,
              "#fb9f3a"
             ],
             [
              0.8888888888888888,
              "#fdca26"
             ],
             [
              1,
              "#f0f921"
             ]
            ],
            "type": "contour"
           }
          ],
          "contourcarpet": [
           {
            "colorbar": {
             "outlinewidth": 0,
             "ticks": ""
            },
            "type": "contourcarpet"
           }
          ],
          "heatmap": [
           {
            "colorbar": {
             "outlinewidth": 0,
             "ticks": ""
            },
            "colorscale": [
             [
              0,
              "#0d0887"
             ],
             [
              0.1111111111111111,
              "#46039f"
             ],
             [
              0.2222222222222222,
              "#7201a8"
             ],
             [
              0.3333333333333333,
              "#9c179e"
             ],
             [
              0.4444444444444444,
              "#bd3786"
             ],
             [
              0.5555555555555556,
              "#d8576b"
             ],
             [
              0.6666666666666666,
              "#ed7953"
             ],
             [
              0.7777777777777778,
              "#fb9f3a"
             ],
             [
              0.8888888888888888,
              "#fdca26"
             ],
             [
              1,
              "#f0f921"
             ]
            ],
            "type": "heatmap"
           }
          ],
          "heatmapgl": [
           {
            "colorbar": {
             "outlinewidth": 0,
             "ticks": ""
            },
            "colorscale": [
             [
              0,
              "#0d0887"
             ],
             [
              0.1111111111111111,
              "#46039f"
             ],
             [
              0.2222222222222222,
              "#7201a8"
             ],
             [
              0.3333333333333333,
              "#9c179e"
             ],
             [
              0.4444444444444444,
              "#bd3786"
             ],
             [
              0.5555555555555556,
              "#d8576b"
             ],
             [
              0.6666666666666666,
              "#ed7953"
             ],
             [
              0.7777777777777778,
              "#fb9f3a"
             ],
             [
              0.8888888888888888,
              "#fdca26"
             ],
             [
              1,
              "#f0f921"
             ]
            ],
            "type": "heatmapgl"
           }
          ],
          "histogram": [
           {
            "marker": {
             "pattern": {
              "fillmode": "overlay",
              "size": 10,
              "solidity": 0.2
             }
            },
            "type": "histogram"
           }
          ],
          "histogram2d": [
           {
            "colorbar": {
             "outlinewidth": 0,
             "ticks": ""
            },
            "colorscale": [
             [
              0,
              "#0d0887"
             ],
             [
              0.1111111111111111,
              "#46039f"
             ],
             [
              0.2222222222222222,
              "#7201a8"
             ],
             [
              0.3333333333333333,
              "#9c179e"
             ],
             [
              0.4444444444444444,
              "#bd3786"
             ],
             [
              0.5555555555555556,
              "#d8576b"
             ],
             [
              0.6666666666666666,
              "#ed7953"
             ],
             [
              0.7777777777777778,
              "#fb9f3a"
             ],
             [
              0.8888888888888888,
              "#fdca26"
             ],
             [
              1,
              "#f0f921"
             ]
            ],
            "type": "histogram2d"
           }
          ],
          "histogram2dcontour": [
           {
            "colorbar": {
             "outlinewidth": 0,
             "ticks": ""
            },
            "colorscale": [
             [
              0,
              "#0d0887"
             ],
             [
              0.1111111111111111,
              "#46039f"
             ],
             [
              0.2222222222222222,
              "#7201a8"
             ],
             [
              0.3333333333333333,
              "#9c179e"
             ],
             [
              0.4444444444444444,
              "#bd3786"
             ],
             [
              0.5555555555555556,
              "#d8576b"
             ],
             [
              0.6666666666666666,
              "#ed7953"
             ],
             [
              0.7777777777777778,
              "#fb9f3a"
             ],
             [
              0.8888888888888888,
              "#fdca26"
             ],
             [
              1,
              "#f0f921"
             ]
            ],
            "type": "histogram2dcontour"
           }
          ],
          "mesh3d": [
           {
            "colorbar": {
             "outlinewidth": 0,
             "ticks": ""
            },
            "type": "mesh3d"
           }
          ],
          "parcoords": [
           {
            "line": {
             "colorbar": {
              "outlinewidth": 0,
              "ticks": ""
             }
            },
            "type": "parcoords"
           }
          ],
          "pie": [
           {
            "automargin": true,
            "type": "pie"
           }
          ],
          "scatter": [
           {
            "fillpattern": {
             "fillmode": "overlay",
             "size": 10,
             "solidity": 0.2
            },
            "type": "scatter"
           }
          ],
          "scatter3d": [
           {
            "line": {
             "colorbar": {
              "outlinewidth": 0,
              "ticks": ""
             }
            },
            "marker": {
             "colorbar": {
              "outlinewidth": 0,
              "ticks": ""
             }
            },
            "type": "scatter3d"
           }
          ],
          "scattercarpet": [
           {
            "marker": {
             "colorbar": {
              "outlinewidth": 0,
              "ticks": ""
             }
            },
            "type": "scattercarpet"
           }
          ],
          "scattergeo": [
           {
            "marker": {
             "colorbar": {
              "outlinewidth": 0,
              "ticks": ""
             }
            },
            "type": "scattergeo"
           }
          ],
          "scattergl": [
           {
            "marker": {
             "colorbar": {
              "outlinewidth": 0,
              "ticks": ""
             }
            },
            "type": "scattergl"
           }
          ],
          "scattermapbox": [
           {
            "marker": {
             "colorbar": {
              "outlinewidth": 0,
              "ticks": ""
             }
            },
            "type": "scattermapbox"
           }
          ],
          "scatterpolar": [
           {
            "marker": {
             "colorbar": {
              "outlinewidth": 0,
              "ticks": ""
             }
            },
            "type": "scatterpolar"
           }
          ],
          "scatterpolargl": [
           {
            "marker": {
             "colorbar": {
              "outlinewidth": 0,
              "ticks": ""
             }
            },
            "type": "scatterpolargl"
           }
          ],
          "scatterternary": [
           {
            "marker": {
             "colorbar": {
              "outlinewidth": 0,
              "ticks": ""
             }
            },
            "type": "scatterternary"
           }
          ],
          "surface": [
           {
            "colorbar": {
             "outlinewidth": 0,
             "ticks": ""
            },
            "colorscale": [
             [
              0,
              "#0d0887"
             ],
             [
              0.1111111111111111,
              "#46039f"
             ],
             [
              0.2222222222222222,
              "#7201a8"
             ],
             [
              0.3333333333333333,
              "#9c179e"
             ],
             [
              0.4444444444444444,
              "#bd3786"
             ],
             [
              0.5555555555555556,
              "#d8576b"
             ],
             [
              0.6666666666666666,
              "#ed7953"
             ],
             [
              0.7777777777777778,
              "#fb9f3a"
             ],
             [
              0.8888888888888888,
              "#fdca26"
             ],
             [
              1,
              "#f0f921"
             ]
            ],
            "type": "surface"
           }
          ],
          "table": [
           {
            "cells": {
             "fill": {
              "color": "#EBF0F8"
             },
             "line": {
              "color": "white"
             }
            },
            "header": {
             "fill": {
              "color": "#C8D4E3"
             },
             "line": {
              "color": "white"
             }
            },
            "type": "table"
           }
          ]
         },
         "layout": {
          "annotationdefaults": {
           "arrowcolor": "#2a3f5f",
           "arrowhead": 0,
           "arrowwidth": 1
          },
          "autotypenumbers": "strict",
          "coloraxis": {
           "colorbar": {
            "outlinewidth": 0,
            "ticks": ""
           }
          },
          "colorscale": {
           "diverging": [
            [
             0,
             "#8e0152"
            ],
            [
             0.1,
             "#c51b7d"
            ],
            [
             0.2,
             "#de77ae"
            ],
            [
             0.3,
             "#f1b6da"
            ],
            [
             0.4,
             "#fde0ef"
            ],
            [
             0.5,
             "#f7f7f7"
            ],
            [
             0.6,
             "#e6f5d0"
            ],
            [
             0.7,
             "#b8e186"
            ],
            [
             0.8,
             "#7fbc41"
            ],
            [
             0.9,
             "#4d9221"
            ],
            [
             1,
             "#276419"
            ]
           ],
           "sequential": [
            [
             0,
             "#0d0887"
            ],
            [
             0.1111111111111111,
             "#46039f"
            ],
            [
             0.2222222222222222,
             "#7201a8"
            ],
            [
             0.3333333333333333,
             "#9c179e"
            ],
            [
             0.4444444444444444,
             "#bd3786"
            ],
            [
             0.5555555555555556,
             "#d8576b"
            ],
            [
             0.6666666666666666,
             "#ed7953"
            ],
            [
             0.7777777777777778,
             "#fb9f3a"
            ],
            [
             0.8888888888888888,
             "#fdca26"
            ],
            [
             1,
             "#f0f921"
            ]
           ],
           "sequentialminus": [
            [
             0,
             "#0d0887"
            ],
            [
             0.1111111111111111,
             "#46039f"
            ],
            [
             0.2222222222222222,
             "#7201a8"
            ],
            [
             0.3333333333333333,
             "#9c179e"
            ],
            [
             0.4444444444444444,
             "#bd3786"
            ],
            [
             0.5555555555555556,
             "#d8576b"
            ],
            [
             0.6666666666666666,
             "#ed7953"
            ],
            [
             0.7777777777777778,
             "#fb9f3a"
            ],
            [
             0.8888888888888888,
             "#fdca26"
            ],
            [
             1,
             "#f0f921"
            ]
           ]
          },
          "colorway": [
           "#636efa",
           "#EF553B",
           "#00cc96",
           "#ab63fa",
           "#FFA15A",
           "#19d3f3",
           "#FF6692",
           "#B6E880",
           "#FF97FF",
           "#FECB52"
          ],
          "font": {
           "color": "#2a3f5f"
          },
          "geo": {
           "bgcolor": "white",
           "lakecolor": "white",
           "landcolor": "#E5ECF6",
           "showlakes": true,
           "showland": true,
           "subunitcolor": "white"
          },
          "hoverlabel": {
           "align": "left"
          },
          "hovermode": "closest",
          "mapbox": {
           "style": "light"
          },
          "paper_bgcolor": "white",
          "plot_bgcolor": "#E5ECF6",
          "polar": {
           "angularaxis": {
            "gridcolor": "white",
            "linecolor": "white",
            "ticks": ""
           },
           "bgcolor": "#E5ECF6",
           "radialaxis": {
            "gridcolor": "white",
            "linecolor": "white",
            "ticks": ""
           }
          },
          "scene": {
           "xaxis": {
            "backgroundcolor": "#E5ECF6",
            "gridcolor": "white",
            "gridwidth": 2,
            "linecolor": "white",
            "showbackground": true,
            "ticks": "",
            "zerolinecolor": "white"
           },
           "yaxis": {
            "backgroundcolor": "#E5ECF6",
            "gridcolor": "white",
            "gridwidth": 2,
            "linecolor": "white",
            "showbackground": true,
            "ticks": "",
            "zerolinecolor": "white"
           },
           "zaxis": {
            "backgroundcolor": "#E5ECF6",
            "gridcolor": "white",
            "gridwidth": 2,
            "linecolor": "white",
            "showbackground": true,
            "ticks": "",
            "zerolinecolor": "white"
           }
          },
          "shapedefaults": {
           "line": {
            "color": "#2a3f5f"
           }
          },
          "ternary": {
           "aaxis": {
            "gridcolor": "white",
            "linecolor": "white",
            "ticks": ""
           },
           "baxis": {
            "gridcolor": "white",
            "linecolor": "white",
            "ticks": ""
           },
           "bgcolor": "#E5ECF6",
           "caxis": {
            "gridcolor": "white",
            "linecolor": "white",
            "ticks": ""
           }
          },
          "title": {
           "x": 0.05
          },
          "xaxis": {
           "automargin": true,
           "gridcolor": "white",
           "linecolor": "white",
           "ticks": "",
           "title": {
            "standoff": 15
           },
           "zerolinecolor": "white",
           "zerolinewidth": 2
          },
          "yaxis": {
           "automargin": true,
           "gridcolor": "white",
           "linecolor": "white",
           "ticks": "",
           "title": {
            "standoff": 15
           },
           "zerolinecolor": "white",
           "zerolinewidth": 2
          }
         }
        },
        "xaxis": {
         "anchor": "y",
         "autorange": true,
         "domain": [
          0,
          1
         ],
         "range": [
          -0.5,
          34.5
         ],
         "title": {
          "text": "Feature"
         },
         "type": "category"
        },
        "yaxis": {
         "anchor": "x",
         "autorange": true,
         "domain": [
          0,
          1
         ],
         "range": [
          0,
          0.3296131069693245
         ],
         "title": {
          "text": "Importance"
         },
         "type": "linear"
        }
       }
      },
      "image/png": "[encoded data removed]",
      "text/html": [
       "<div>                            <div id=\"e2422d9c-badd-45b3-9bd9-577e6d82e9eb\" class=\"plotly-graph-div\" style=\"height:525px; width:100%;\"></div>            <script type=\"text/javascript\">                require([\"plotly\"], function(Plotly) {                    window.PLOTLYENV=window.PLOTLYENV || {};                                    if (document.getElementById(\"e2422d9c-badd-45b3-9bd9-577e6d82e9eb\")) {                    Plotly.newPlot(                        \"e2422d9c-badd-45b3-9bd9-577e6d82e9eb\",                        [{\"alignmentgroup\":\"True\",\"hovertemplate\":\"Feature=%{x}<br>Importance=%{y}<extra></extra>\",\"legendgroup\":\"\",\"marker\":{\"color\":\"#636efa\",\"pattern\":{\"shape\":\"\"}},\"name\":\"\",\"offsetgroup\":\"\",\"orientation\":\"v\",\"showlegend\":false,\"textposition\":\"auto\",\"x\":[\"Proportion of seats won by Conservatives\",\"Life satisfaction score out of 10\",\"Proportion of seats won by Liberal Democrats\",\"Happiness score out of 10\",\"% of Professional, Real Estate, Scientific and technical activities workers\",\"Ratio of house prices to earnings\",\"% of Primary & Utilities workers\",\"Consumer expenditure on Alcoholic beverages (\\u00a3mn)\",\"% of Public sector jobs\",\"Average number of homeless people per 1000\",\"Anxiety score out of 10\",\"Attainment\",\"% of Retail workers\",\"% of Arts, entertainment and recreation workers\",\"% of Private sector jobs\",\"% of Administrative and support service activities workers\",\"Worthwhile score out of 10\",\"% of Financial and insurance activities workers\",\"Consumer expenditure on Pubs and Wine bars (\\u00a3mn)\",\"Life expectancy of women at 65\",\"% of Construction workers\",\"% of Wholesale workers\",\"Proportion of seats won by Labour\",\"Wage per hour\",\"% of Information and Communication workers\",\"% of Other services workers\",\"% of Public Admin and defence workers\",\"% of Transportation and Storage workers\",\"Population per hectare\",\"% of Manufacturing workers\",\"% of Accomodation and food service activities workers\",\"% of Education workers\",\"Life expectancy of men at 65\",\"Dwellings per hectare\",\"% of Health workers\"],\"xaxis\":\"x\",\"y\":[0.0007215412914880851,0.0010932792594303285,0.0011150150682114847,0.0020282935378086258,0.0025684554172086364,0.0033910570857537585,0.0036300400775677527,0.005012476019599306,0.00538416050370891,0.005408632963616645,0.0055436972386053995,0.005593393155528935,0.00589559941922008,0.006243796491063873,0.006426794363425532,0.006847886158560568,0.007354568652875035,0.007642478794369673,0.008006562466365148,0.008033993011375999,0.009283015865601464,0.00944611048493943,0.009614896132328058,0.01119566053115787,0.012706425206270848,0.012992578149029727,0.015817103974361816,0.016652689167924666,0.02809849989424336,0.03447704184669269,0.04138333192222088,0.04781248344860278,0.12359731072209178,0.2158486800578927,0.3131324516208583],\"yaxis\":\"y\",\"type\":\"bar\"}],                        {\"template\":{\"data\":{\"histogram2dcontour\":[{\"type\":\"histogram2dcontour\",\"colorbar\":{\"outlinewidth\":0,\"ticks\":\"\"},\"colorscale\":[[0.0,\"#0d0887\"],[0.1111111111111111,\"#46039f\"],[0.2222222222222222,\"#7201a8\"],[0.3333333333333333,\"#9c179e\"],[0.4444444444444444,\"#bd3786\"],[0.5555555555555556,\"#d8576b\"],[0.6666666666666666,\"#ed7953\"],[0.7777777777777778,\"#fb9f3a\"],[0.8888888888888888,\"#fdca26\"],[1.0,\"#f0f921\"]]}],\"choropleth\":[{\"type\":\"choropleth\",\"colorbar\":{\"outlinewidth\":0,\"ticks\":\"\"}}],\"histogram2d\":[{\"type\":\"histogram2d\",\"colorbar\":{\"outlinewidth\":0,\"ticks\":\"\"},\"colorscale\":[[0.0,\"#0d0887\"],[0.1111111111111111,\"#46039f\"],[0.2222222222222222,\"#7201a8\"],[0.3333333333333333,\"#9c179e\"],[0.4444444444444444,\"#bd3786\"],[0.5555555555555556,\"#d8576b\"],[0.6666666666666666,\"#ed7953\"],[0.7777777777777778,\"#fb9f3a\"],[0.8888888888888888,\"#fdca26\"],[1.0,\"#f0f921\"]]}],\"heatmap\":[{\"type\":\"heatmap\",\"colorbar\":{\"outlinewidth\":0,\"ticks\":\"\"},\"colorscale\":[[0.0,\"#0d0887\"],[0.1111111111111111,\"#46039f\"],[0.2222222222222222,\"#7201a8\"],[0.3333333333333333,\"#9c179e\"],[0.4444444444444444,\"#bd3786\"],[0.5555555555555556,\"#d8576b\"],[0.6666666666666666,\"#ed7953\"],[0.7777777777777778,\"#fb9f3a\"],[0.8888888888888888,\"#fdca26\"],[1.0,\"#f0f921\"]]}],\"heatmapgl\":[{\"type\":\"heatmapgl\",\"colorbar\":{\"outlinewidth\":0,\"ticks\":\"\"},\"colorscale\":[[0.0,\"#0d0887\"],[0.1111111111111111,\"#46039f\"],[0.2222222222222222,\"#7201a8\"],[0.3333333333333333,\"#9c179e\"],[0.4444444444444444,\"#bd3786\"],[0.5555555555555556,\"#d8576b\"],[0.6666666666666666,\"#ed7953\"],[0.7777777777777778,\"#fb9f3a\"],[0.8888888888888888,\"#fdca26\"],[1.0,\"#f0f921\"]]}],\"contourcarpet\":[{\"type\":\"contourcarpet\",\"colorbar\":{\"outlinewidth\":0,\"ticks\":\"\"}}],\"contour\":[{\"type\":\"contour\",\"colorbar\":{\"outlinewidth\":0,\"ticks\":\"\"},\"colorscale\":[[0.0,\"#0d0887\"],[0.1111111111111111,\"#46039f\"],[0.2222222222222222,\"#7201a8\"],[0.3333333333333333,\"#9c179e\"],[0.4444444444444444,\"#bd3786\"],[0.5555555555555556,\"#d8576b\"],[0.6666666666666666,\"#ed7953\"],[0.7777777777777778,\"#fb9f3a\"],[0.8888888888888888,\"#fdca26\"],[1.0,\"#f0f921\"]]}],\"surface\":[{\"type\":\"surface\",\"colorbar\":{\"outlinewidth\":0,\"ticks\":\"\"},\"colorscale\":[[0.0,\"#0d0887\"],[0.1111111111111111,\"#46039f\"],[0.2222222222222222,\"#7201a8\"],[0.3333333333333333,\"#9c179e\"],[0.4444444444444444,\"#bd3786\"],[0.5555555555555556,\"#d8576b\"],[0.6666666666666666,\"#ed7953\"],[0.7777777777777778,\"#fb9f3a\"],[0.8888888888888888,\"#fdca26\"],[1.0,\"#f0f921\"]]}],\"mesh3d\":[{\"type\":\"mesh3d\",\"colorbar\":{\"outlinewidth\":0,\"ticks\":\"\"}}],\"scatter\":[{\"fillpattern\":{\"fillmode\":\"overlay\",\"size\":10,\"solidity\":0.2},\"type\":\"scatter\"}],\"parcoords\":[{\"type\":\"parcoords\",\"line\":{\"colorbar\":{\"outlinewidth\":0,\"ticks\":\"\"}}}],\"scatterpolargl\":[{\"type\":\"scatterpolargl\",\"marker\":{\"colorbar\":{\"outlinewidth\":0,\"ticks\":\"\"}}}],\"bar\":[{\"error_x\":{\"color\":\"#2a3f5f\"},\"error_y\":{\"color\":\"#2a3f5f\"},\"marker\":{\"line\":{\"color\":\"#E5ECF6\",\"width\":0.5},\"pattern\":{\"fillmode\":\"overlay\",\"size\":10,\"solidity\":0.2}},\"type\":\"bar\"}],\"scattergeo\":[{\"type\":\"scattergeo\",\"marker\":{\"colorbar\":{\"outlinewidth\":0,\"ticks\":\"\"}}}],\"scatterpolar\":[{\"type\":\"scatterpolar\",\"marker\":{\"colorbar\":{\"outlinewidth\":0,\"ticks\":\"\"}}}],\"histogram\":[{\"marker\":{\"pattern\":{\"fillmode\":\"overlay\",\"size\":10,\"solidity\":0.2}},\"type\":\"histogram\"}],\"scattergl\":[{\"type\":\"scattergl\",\"marker\":{\"colorbar\":{\"outlinewidth\":0,\"ticks\":\"\"}}}],\"scatter3d\":[{\"type\":\"scatter3d\",\"line\":{\"colorbar\":{\"outlinewidth\":0,\"ticks\":\"\"}},\"marker\":{\"colorbar\":{\"outlinewidth\":0,\"ticks\":\"\"}}}],\"scattermapbox\":[{\"type\":\"scattermapbox\",\"marker\":{\"colorbar\":{\"outlinewidth\":0,\"ticks\":\"\"}}}],\"scatterternary\":[{\"type\":\"scatterternary\",\"marker\":{\"colorbar\":{\"outlinewidth\":0,\"ticks\":\"\"}}}],\"scattercarpet\":[{\"type\":\"scattercarpet\",\"marker\":{\"colorbar\":{\"outlinewidth\":0,\"ticks\":\"\"}}}],\"carpet\":[{\"aaxis\":{\"endlinecolor\":\"#2a3f5f\",\"gridcolor\":\"white\",\"linecolor\":\"white\",\"minorgridcolor\":\"white\",\"startlinecolor\":\"#2a3f5f\"},\"baxis\":{\"endlinecolor\":\"#2a3f5f\",\"gridcolor\":\"white\",\"linecolor\":\"white\",\"minorgridcolor\":\"white\",\"startlinecolor\":\"#2a3f5f\"},\"type\":\"carpet\"}],\"table\":[{\"cells\":{\"fill\":{\"color\":\"#EBF0F8\"},\"line\":{\"color\":\"white\"}},\"header\":{\"fill\":{\"color\":\"#C8D4E3\"},\"line\":{\"color\":\"white\"}},\"type\":\"table\"}],\"barpolar\":[{\"marker\":{\"line\":{\"color\":\"#E5ECF6\",\"width\":0.5},\"pattern\":{\"fillmode\":\"overlay\",\"size\":10,\"solidity\":0.2}},\"type\":\"barpolar\"}],\"pie\":[{\"automargin\":true,\"type\":\"pie\"}]},\"layout\":{\"autotypenumbers\":\"strict\",\"colorway\":[\"#636efa\",\"#EF553B\",\"#00cc96\",\"#ab63fa\",\"#FFA15A\",\"#19d3f3\",\"#FF6692\",\"#B6E880\",\"#FF97FF\",\"#FECB52\"],\"font\":{\"color\":\"#2a3f5f\"},\"hovermode\":\"closest\",\"hoverlabel\":{\"align\":\"left\"},\"paper_bgcolor\":\"white\",\"plot_bgcolor\":\"#E5ECF6\",\"polar\":{\"bgcolor\":\"#E5ECF6\",\"angularaxis\":{\"gridcolor\":\"white\",\"linecolor\":\"white\",\"ticks\":\"\"},\"radialaxis\":{\"gridcolor\":\"white\",\"linecolor\":\"white\",\"ticks\":\"\"}},\"ternary\":{\"bgcolor\":\"#E5ECF6\",\"aaxis\":{\"gridcolor\":\"white\",\"linecolor\":\"white\",\"ticks\":\"\"},\"baxis\":{\"gridcolor\":\"white\",\"linecolor\":\"white\",\"ticks\":\"\"},\"caxis\":{\"gridcolor\":\"white\",\"linecolor\":\"white\",\"ticks\":\"\"}},\"coloraxis\":{\"colorbar\":{\"outlinewidth\":0,\"ticks\":\"\"}},\"colorscale\":{\"sequential\":[[0.0,\"#0d0887\"],[0.1111111111111111,\"#46039f\"],[0.2222222222222222,\"#7201a8\"],[0.3333333333333333,\"#9c179e\"],[0.4444444444444444,\"#bd3786\"],[0.5555555555555556,\"#d8576b\"],[0.6666666666666666,\"#ed7953\"],[0.7777777777777778,\"#fb9f3a\"],[0.8888888888888888,\"#fdca26\"],[1.0,\"#f0f921\"]],\"sequentialminus\":[[0.0,\"#0d0887\"],[0.1111111111111111,\"#46039f\"],[0.2222222222222222,\"#7201a8\"],[0.3333333333333333,\"#9c179e\"],[0.4444444444444444,\"#bd3786\"],[0.5555555555555556,\"#d8576b\"],[0.6666666666666666,\"#ed7953\"],[0.7777777777777778,\"#fb9f3a\"],[0.8888888888888888,\"#fdca26\"],[1.0,\"#f0f921\"]],\"diverging\":[[0,\"#8e0152\"],[0.1,\"#c51b7d\"],[0.2,\"#de77ae\"],[0.3,\"#f1b6da\"],[0.4,\"#fde0ef\"],[0.5,\"#f7f7f7\"],[0.6,\"#e6f5d0\"],[0.7,\"#b8e186\"],[0.8,\"#7fbc41\"],[0.9,\"#4d9221\"],[1,\"#276419\"]]},\"xaxis\":{\"gridcolor\":\"white\",\"linecolor\":\"white\",\"ticks\":\"\",\"title\":{\"standoff\":15},\"zerolinecolor\":\"white\",\"automargin\":true,\"zerolinewidth\":2},\"yaxis\":{\"gridcolor\":\"white\",\"linecolor\":\"white\",\"ticks\":\"\",\"title\":{\"standoff\":15},\"zerolinecolor\":\"white\",\"automargin\":true,\"zerolinewidth\":2},\"scene\":{\"xaxis\":{\"backgroundcolor\":\"#E5ECF6\",\"gridcolor\":\"white\",\"linecolor\":\"white\",\"showbackground\":true,\"ticks\":\"\",\"zerolinecolor\":\"white\",\"gridwidth\":2},\"yaxis\":{\"backgroundcolor\":\"#E5ECF6\",\"gridcolor\":\"white\",\"linecolor\":\"white\",\"showbackground\":true,\"ticks\":\"\",\"zerolinecolor\":\"white\",\"gridwidth\":2},\"zaxis\":{\"backgroundcolor\":\"#E5ECF6\",\"gridcolor\":\"white\",\"linecolor\":\"white\",\"showbackground\":true,\"ticks\":\"\",\"zerolinecolor\":\"white\",\"gridwidth\":2}},\"shapedefaults\":{\"line\":{\"color\":\"#2a3f5f\"}},\"annotationdefaults\":{\"arrowcolor\":\"#2a3f5f\",\"arrowhead\":0,\"arrowwidth\":1},\"geo\":{\"bgcolor\":\"white\",\"landcolor\":\"#E5ECF6\",\"subunitcolor\":\"white\",\"showland\":true,\"showlakes\":true,\"lakecolor\":\"white\"},\"title\":{\"x\":0.05},\"mapbox\":{\"style\":\"light\"}}},\"xaxis\":{\"anchor\":\"y\",\"domain\":[0.0,1.0],\"title\":{\"text\":\"Feature\"}},\"yaxis\":{\"anchor\":\"x\",\"domain\":[0.0,1.0],\"title\":{\"text\":\"Importance\"}},\"legend\":{\"tracegroupgap\":0},\"margin\":{\"t\":60},\"barmode\":\"relative\"},                        {\"responsive\": true}                    ).then(function(){\n",
       "                            \n",
       "var gd = document.getElementById('e2422d9c-badd-45b3-9bd9-577e6d82e9eb');\n",
       "var x = new MutationObserver(function (mutations, observer) {{\n",
       "        var display = window.getComputedStyle(gd).display;\n",
       "        if (!display || display === 'none') {{\n",
       "            console.log([gd, 'removed!']);\n",
       "            Plotly.purge(gd);\n",
       "            observer.disconnect();\n",
       "        }}\n",
       "}});\n",
       "\n",
       "// Listen for the removal of the full notebook cells\n",
       "var notebookContainer = gd.closest('#notebook-container');\n",
       "if (notebookContainer) {{\n",
       "    x.observe(notebookContainer, {childList: true});\n",
       "}}\n",
       "\n",
       "// Listen for the clearing of the current output cell\n",
       "var outputEl = gd.closest('.output');\n",
       "if (outputEl) {{\n",
       "    x.observe(outputEl, {childList: true});\n",
       "}}\n",
       "\n",
       "                        })                };                });            </script>        </div>"
      ]
     },
     "metadata": {},
     "output_type": "display_data"
    }
   ],
   "source": [
    "\n",
    "# Get the feature importances\n",
    "importances = regressor.feature_importances_\n",
    "\n",
    "# Sort the importance scores in ascending order\n",
    "indices = np.argsort(importances)\n",
    "\n",
    "# Get the column names in the correct order\n",
    "cols = X_train.columns[indices]\n",
    "\n",
    "# Create a bar chart using the px.bar() function\n",
    "fig = px.bar(\n",
    "    x=cols,\n",
    "    y=importances[indices],\n",
    "    labels={'x': 'Feature', 'y': 'Importance'}\n",
    ")\n",
    "\n",
    "# Save the figure as an HTML file\n",
    "pio.write_html(fig, file='interactive_plot_htmls/ranked_importance_1999_2021.html')\n",
    "\n",
    "# Show the plot\n",
    "fig.show()\n"
   ]
  },
  {
   "cell_type": "markdown",
   "id": "58fbbd54-1198-451f-b64b-2d587ee9f283",
   "metadata": {},
   "source": [
    "We can visualize the top 10 most important borough attribute's."
   ]
  },
  {
   "cell_type": "code",
   "execution_count": 19,
   "id": "fa09c233-6b41-4b89-922c-d8ae56281eaa",
   "metadata": {},
   "outputs": [
    {
     "data": {
      "application/vnd.plotly.v1+json": {
       "config": {
        "plotlyServerURL": "https://plot.ly"
       },
       "data": [
        {
         "alignmentgroup": "True",
         "hovertemplate": "Feature=%{x}<br>Importance=%{y}<extra></extra>",
         "legendgroup": "",
         "marker": {
          "color": "#636efa",
          "pattern": {
           "shape": ""
          }
         },
         "name": "",
         "offsetgroup": "",
         "orientation": "v",
         "showlegend": false,
         "textposition": "auto",
         "type": "bar",
         "x": [
          "% of Other services workers",
          "% of Public Admin and defence workers",
          "% of Transportation and Storage workers",
          "Population per hectare",
          "% of Manufacturing workers",
          "% of Accomodation and food service activities workers",
          "% of Education workers",
          "Life expectancy of men at 65",
          "Dwellings per hectare",
          "% of Health workers"
         ],
         "xaxis": "x",
         "y": [
          0.012992578149029727,
          0.015817103974361816,
          0.016652689167924666,
          0.02809849989424336,
          0.03447704184669269,
          0.04138333192222088,
          0.04781248344860278,
          0.12359731072209178,
          0.2158486800578927,
          0.3131324516208583
         ],
         "yaxis": "y"
        }
       ],
       "layout": {
        "autosize": true,
        "barmode": "relative",
        "legend": {
         "tracegroupgap": 0
        },
        "margin": {
         "t": 60
        },
        "template": {
         "data": {
          "bar": [
           {
            "error_x": {
             "color": "#2a3f5f"
            },
            "error_y": {
             "color": "#2a3f5f"
            },
            "marker": {
             "line": {
              "color": "#E5ECF6",
              "width": 0.5
             },
             "pattern": {
              "fillmode": "overlay",
              "size": 10,
              "solidity": 0.2
             }
            },
            "type": "bar"
           }
          ],
          "barpolar": [
           {
            "marker": {
             "line": {
              "color": "#E5ECF6",
              "width": 0.5
             },
             "pattern": {
              "fillmode": "overlay",
              "size": 10,
              "solidity": 0.2
             }
            },
            "type": "barpolar"
           }
          ],
          "carpet": [
           {
            "aaxis": {
             "endlinecolor": "#2a3f5f",
             "gridcolor": "white",
             "linecolor": "white",
             "minorgridcolor": "white",
             "startlinecolor": "#2a3f5f"
            },
            "baxis": {
             "endlinecolor": "#2a3f5f",
             "gridcolor": "white",
             "linecolor": "white",
             "minorgridcolor": "white",
             "startlinecolor": "#2a3f5f"
            },
            "type": "carpet"
           }
          ],
          "choropleth": [
           {
            "colorbar": {
             "outlinewidth": 0,
             "ticks": ""
            },
            "type": "choropleth"
           }
          ],
          "contour": [
           {
            "colorbar": {
             "outlinewidth": 0,
             "ticks": ""
            },
            "colorscale": [
             [
              0,
              "#0d0887"
             ],
             [
              0.1111111111111111,
              "#46039f"
             ],
             [
              0.2222222222222222,
              "#7201a8"
             ],
             [
              0.3333333333333333,
              "#9c179e"
             ],
             [
              0.4444444444444444,
              "#bd3786"
             ],
             [
              0.5555555555555556,
              "#d8576b"
             ],
             [
              0.6666666666666666,
              "#ed7953"
             ],
             [
              0.7777777777777778,
              "#fb9f3a"
             ],
             [
              0.8888888888888888,
              "#fdca26"
             ],
             [
              1,
              "#f0f921"
             ]
            ],
            "type": "contour"
           }
          ],
          "contourcarpet": [
           {
            "colorbar": {
             "outlinewidth": 0,
             "ticks": ""
            },
            "type": "contourcarpet"
           }
          ],
          "heatmap": [
           {
            "colorbar": {
             "outlinewidth": 0,
             "ticks": ""
            },
            "colorscale": [
             [
              0,
              "#0d0887"
             ],
             [
              0.1111111111111111,
              "#46039f"
             ],
             [
              0.2222222222222222,
              "#7201a8"
             ],
             [
              0.3333333333333333,
              "#9c179e"
             ],
             [
              0.4444444444444444,
              "#bd3786"
             ],
             [
              0.5555555555555556,
              "#d8576b"
             ],
             [
              0.6666666666666666,
              "#ed7953"
             ],
             [
              0.7777777777777778,
              "#fb9f3a"
             ],
             [
              0.8888888888888888,
              "#fdca26"
             ],
             [
              1,
              "#f0f921"
             ]
            ],
            "type": "heatmap"
           }
          ],
          "heatmapgl": [
           {
            "colorbar": {
             "outlinewidth": 0,
             "ticks": ""
            },
            "colorscale": [
             [
              0,
              "#0d0887"
             ],
             [
              0.1111111111111111,
              "#46039f"
             ],
             [
              0.2222222222222222,
              "#7201a8"
             ],
             [
              0.3333333333333333,
              "#9c179e"
             ],
             [
              0.4444444444444444,
              "#bd3786"
             ],
             [
              0.5555555555555556,
              "#d8576b"
             ],
             [
              0.6666666666666666,
              "#ed7953"
             ],
             [
              0.7777777777777778,
              "#fb9f3a"
             ],
             [
              0.8888888888888888,
              "#fdca26"
             ],
             [
              1,
              "#f0f921"
             ]
            ],
            "type": "heatmapgl"
           }
          ],
          "histogram": [
           {
            "marker": {
             "pattern": {
              "fillmode": "overlay",
              "size": 10,
              "solidity": 0.2
             }
            },
            "type": "histogram"
           }
          ],
          "histogram2d": [
           {
            "colorbar": {
             "outlinewidth": 0,
             "ticks": ""
            },
            "colorscale": [
             [
              0,
              "#0d0887"
             ],
             [
              0.1111111111111111,
              "#46039f"
             ],
             [
              0.2222222222222222,
              "#7201a8"
             ],
             [
              0.3333333333333333,
              "#9c179e"
             ],
             [
              0.4444444444444444,
              "#bd3786"
             ],
             [
              0.5555555555555556,
              "#d8576b"
             ],
             [
              0.6666666666666666,
              "#ed7953"
             ],
             [
              0.7777777777777778,
              "#fb9f3a"
             ],
             [
              0.8888888888888888,
              "#fdca26"
             ],
             [
              1,
              "#f0f921"
             ]
            ],
            "type": "histogram2d"
           }
          ],
          "histogram2dcontour": [
           {
            "colorbar": {
             "outlinewidth": 0,
             "ticks": ""
            },
            "colorscale": [
             [
              0,
              "#0d0887"
             ],
             [
              0.1111111111111111,
              "#46039f"
             ],
             [
              0.2222222222222222,
              "#7201a8"
             ],
             [
              0.3333333333333333,
              "#9c179e"
             ],
             [
              0.4444444444444444,
              "#bd3786"
             ],
             [
              0.5555555555555556,
              "#d8576b"
             ],
             [
              0.6666666666666666,
              "#ed7953"
             ],
             [
              0.7777777777777778,
              "#fb9f3a"
             ],
             [
              0.8888888888888888,
              "#fdca26"
             ],
             [
              1,
              "#f0f921"
             ]
            ],
            "type": "histogram2dcontour"
           }
          ],
          "mesh3d": [
           {
            "colorbar": {
             "outlinewidth": 0,
             "ticks": ""
            },
            "type": "mesh3d"
           }
          ],
          "parcoords": [
           {
            "line": {
             "colorbar": {
              "outlinewidth": 0,
              "ticks": ""
             }
            },
            "type": "parcoords"
           }
          ],
          "pie": [
           {
            "automargin": true,
            "type": "pie"
           }
          ],
          "scatter": [
           {
            "fillpattern": {
             "fillmode": "overlay",
             "size": 10,
             "solidity": 0.2
            },
            "type": "scatter"
           }
          ],
          "scatter3d": [
           {
            "line": {
             "colorbar": {
              "outlinewidth": 0,
              "ticks": ""
             }
            },
            "marker": {
             "colorbar": {
              "outlinewidth": 0,
              "ticks": ""
             }
            },
            "type": "scatter3d"
           }
          ],
          "scattercarpet": [
           {
            "marker": {
             "colorbar": {
              "outlinewidth": 0,
              "ticks": ""
             }
            },
            "type": "scattercarpet"
           }
          ],
          "scattergeo": [
           {
            "marker": {
             "colorbar": {
              "outlinewidth": 0,
              "ticks": ""
             }
            },
            "type": "scattergeo"
           }
          ],
          "scattergl": [
           {
            "marker": {
             "colorbar": {
              "outlinewidth": 0,
              "ticks": ""
             }
            },
            "type": "scattergl"
           }
          ],
          "scattermapbox": [
           {
            "marker": {
             "colorbar": {
              "outlinewidth": 0,
              "ticks": ""
             }
            },
            "type": "scattermapbox"
           }
          ],
          "scatterpolar": [
           {
            "marker": {
             "colorbar": {
              "outlinewidth": 0,
              "ticks": ""
             }
            },
            "type": "scatterpolar"
           }
          ],
          "scatterpolargl": [
           {
            "marker": {
             "colorbar": {
              "outlinewidth": 0,
              "ticks": ""
             }
            },
            "type": "scatterpolargl"
           }
          ],
          "scatterternary": [
           {
            "marker": {
             "colorbar": {
              "outlinewidth": 0,
              "ticks": ""
             }
            },
            "type": "scatterternary"
           }
          ],
          "surface": [
           {
            "colorbar": {
             "outlinewidth": 0,
             "ticks": ""
            },
            "colorscale": [
             [
              0,
              "#0d0887"
             ],
             [
              0.1111111111111111,
              "#46039f"
             ],
             [
              0.2222222222222222,
              "#7201a8"
             ],
             [
              0.3333333333333333,
              "#9c179e"
             ],
             [
              0.4444444444444444,
              "#bd3786"
             ],
             [
              0.5555555555555556,
              "#d8576b"
             ],
             [
              0.6666666666666666,
              "#ed7953"
             ],
             [
              0.7777777777777778,
              "#fb9f3a"
             ],
             [
              0.8888888888888888,
              "#fdca26"
             ],
             [
              1,
              "#f0f921"
             ]
            ],
            "type": "surface"
           }
          ],
          "table": [
           {
            "cells": {
             "fill": {
              "color": "#EBF0F8"
             },
             "line": {
              "color": "white"
             }
            },
            "header": {
             "fill": {
              "color": "#C8D4E3"
             },
             "line": {
              "color": "white"
             }
            },
            "type": "table"
           }
          ]
         },
         "layout": {
          "annotationdefaults": {
           "arrowcolor": "#2a3f5f",
           "arrowhead": 0,
           "arrowwidth": 1
          },
          "autotypenumbers": "strict",
          "coloraxis": {
           "colorbar": {
            "outlinewidth": 0,
            "ticks": ""
           }
          },
          "colorscale": {
           "diverging": [
            [
             0,
             "#8e0152"
            ],
            [
             0.1,
             "#c51b7d"
            ],
            [
             0.2,
             "#de77ae"
            ],
            [
             0.3,
             "#f1b6da"
            ],
            [
             0.4,
             "#fde0ef"
            ],
            [
             0.5,
             "#f7f7f7"
            ],
            [
             0.6,
             "#e6f5d0"
            ],
            [
             0.7,
             "#b8e186"
            ],
            [
             0.8,
             "#7fbc41"
            ],
            [
             0.9,
             "#4d9221"
            ],
            [
             1,
             "#276419"
            ]
           ],
           "sequential": [
            [
             0,
             "#0d0887"
            ],
            [
             0.1111111111111111,
             "#46039f"
            ],
            [
             0.2222222222222222,
             "#7201a8"
            ],
            [
             0.3333333333333333,
             "#9c179e"
            ],
            [
             0.4444444444444444,
             "#bd3786"
            ],
            [
             0.5555555555555556,
             "#d8576b"
            ],
            [
             0.6666666666666666,
             "#ed7953"
            ],
            [
             0.7777777777777778,
             "#fb9f3a"
            ],
            [
             0.8888888888888888,
             "#fdca26"
            ],
            [
             1,
             "#f0f921"
            ]
           ],
           "sequentialminus": [
            [
             0,
             "#0d0887"
            ],
            [
             0.1111111111111111,
             "#46039f"
            ],
            [
             0.2222222222222222,
             "#7201a8"
            ],
            [
             0.3333333333333333,
             "#9c179e"
            ],
            [
             0.4444444444444444,
             "#bd3786"
            ],
            [
             0.5555555555555556,
             "#d8576b"
            ],
            [
             0.6666666666666666,
             "#ed7953"
            ],
            [
             0.7777777777777778,
             "#fb9f3a"
            ],
            [
             0.8888888888888888,
             "#fdca26"
            ],
            [
             1,
             "#f0f921"
            ]
           ]
          },
          "colorway": [
           "#636efa",
           "#EF553B",
           "#00cc96",
           "#ab63fa",
           "#FFA15A",
           "#19d3f3",
           "#FF6692",
           "#B6E880",
           "#FF97FF",
           "#FECB52"
          ],
          "font": {
           "color": "#2a3f5f"
          },
          "geo": {
           "bgcolor": "white",
           "lakecolor": "white",
           "landcolor": "#E5ECF6",
           "showlakes": true,
           "showland": true,
           "subunitcolor": "white"
          },
          "hoverlabel": {
           "align": "left"
          },
          "hovermode": "closest",
          "mapbox": {
           "style": "light"
          },
          "paper_bgcolor": "white",
          "plot_bgcolor": "#E5ECF6",
          "polar": {
           "angularaxis": {
            "gridcolor": "white",
            "linecolor": "white",
            "ticks": ""
           },
           "bgcolor": "#E5ECF6",
           "radialaxis": {
            "gridcolor": "white",
            "linecolor": "white",
            "ticks": ""
           }
          },
          "scene": {
           "xaxis": {
            "backgroundcolor": "#E5ECF6",
            "gridcolor": "white",
            "gridwidth": 2,
            "linecolor": "white",
            "showbackground": true,
            "ticks": "",
            "zerolinecolor": "white"
           },
           "yaxis": {
            "backgroundcolor": "#E5ECF6",
            "gridcolor": "white",
            "gridwidth": 2,
            "linecolor": "white",
            "showbackground": true,
            "ticks": "",
            "zerolinecolor": "white"
           },
           "zaxis": {
            "backgroundcolor": "#E5ECF6",
            "gridcolor": "white",
            "gridwidth": 2,
            "linecolor": "white",
            "showbackground": true,
            "ticks": "",
            "zerolinecolor": "white"
           }
          },
          "shapedefaults": {
           "line": {
            "color": "#2a3f5f"
           }
          },
          "ternary": {
           "aaxis": {
            "gridcolor": "white",
            "linecolor": "white",
            "ticks": ""
           },
           "baxis": {
            "gridcolor": "white",
            "linecolor": "white",
            "ticks": ""
           },
           "bgcolor": "#E5ECF6",
           "caxis": {
            "gridcolor": "white",
            "linecolor": "white",
            "ticks": ""
           }
          },
          "title": {
           "x": 0.05
          },
          "xaxis": {
           "automargin": true,
           "gridcolor": "white",
           "linecolor": "white",
           "ticks": "",
           "title": {
            "standoff": 15
           },
           "zerolinecolor": "white",
           "zerolinewidth": 2
          },
          "yaxis": {
           "automargin": true,
           "gridcolor": "white",
           "linecolor": "white",
           "ticks": "",
           "title": {
            "standoff": 15
           },
           "zerolinecolor": "white",
           "zerolinewidth": 2
          }
         }
        },
        "xaxis": {
         "anchor": "y",
         "autorange": true,
         "domain": [
          0,
          1
         ],
         "range": [
          -0.5,
          9.5
         ],
         "title": {
          "text": "Feature"
         },
         "type": "category"
        },
        "yaxis": {
         "anchor": "x",
         "autorange": true,
         "domain": [
          0,
          1
         ],
         "range": [
          0,
          0.3296131069693245
         ],
         "title": {
          "text": "Importance"
         },
         "type": "linear"
        }
       }
      },
      "image/png": "[encoded data removed]",
      "text/html": [
       "<div>                            <div id=\"e9cdf406-cd9c-46b7-bdac-9644fb4ec281\" class=\"plotly-graph-div\" style=\"height:525px; width:100%;\"></div>            <script type=\"text/javascript\">                require([\"plotly\"], function(Plotly) {                    window.PLOTLYENV=window.PLOTLYENV || {};                                    if (document.getElementById(\"e9cdf406-cd9c-46b7-bdac-9644fb4ec281\")) {                    Plotly.newPlot(                        \"e9cdf406-cd9c-46b7-bdac-9644fb4ec281\",                        [{\"alignmentgroup\":\"True\",\"hovertemplate\":\"Feature=%{x}<br>Importance=%{y}<extra></extra>\",\"legendgroup\":\"\",\"marker\":{\"color\":\"#636efa\",\"pattern\":{\"shape\":\"\"}},\"name\":\"\",\"offsetgroup\":\"\",\"orientation\":\"v\",\"showlegend\":false,\"textposition\":\"auto\",\"x\":[\"% of Other services workers\",\"% of Public Admin and defence workers\",\"% of Transportation and Storage workers\",\"Population per hectare\",\"% of Manufacturing workers\",\"% of Accomodation and food service activities workers\",\"% of Education workers\",\"Life expectancy of men at 65\",\"Dwellings per hectare\",\"% of Health workers\"],\"xaxis\":\"x\",\"y\":[0.012992578149029727,0.015817103974361816,0.016652689167924666,0.02809849989424336,0.03447704184669269,0.04138333192222088,0.04781248344860278,0.12359731072209178,0.2158486800578927,0.3131324516208583],\"yaxis\":\"y\",\"type\":\"bar\"}],                        {\"template\":{\"data\":{\"histogram2dcontour\":[{\"type\":\"histogram2dcontour\",\"colorbar\":{\"outlinewidth\":0,\"ticks\":\"\"},\"colorscale\":[[0.0,\"#0d0887\"],[0.1111111111111111,\"#46039f\"],[0.2222222222222222,\"#7201a8\"],[0.3333333333333333,\"#9c179e\"],[0.4444444444444444,\"#bd3786\"],[0.5555555555555556,\"#d8576b\"],[0.6666666666666666,\"#ed7953\"],[0.7777777777777778,\"#fb9f3a\"],[0.8888888888888888,\"#fdca26\"],[1.0,\"#f0f921\"]]}],\"choropleth\":[{\"type\":\"choropleth\",\"colorbar\":{\"outlinewidth\":0,\"ticks\":\"\"}}],\"histogram2d\":[{\"type\":\"histogram2d\",\"colorbar\":{\"outlinewidth\":0,\"ticks\":\"\"},\"colorscale\":[[0.0,\"#0d0887\"],[0.1111111111111111,\"#46039f\"],[0.2222222222222222,\"#7201a8\"],[0.3333333333333333,\"#9c179e\"],[0.4444444444444444,\"#bd3786\"],[0.5555555555555556,\"#d8576b\"],[0.6666666666666666,\"#ed7953\"],[0.7777777777777778,\"#fb9f3a\"],[0.8888888888888888,\"#fdca26\"],[1.0,\"#f0f921\"]]}],\"heatmap\":[{\"type\":\"heatmap\",\"colorbar\":{\"outlinewidth\":0,\"ticks\":\"\"},\"colorscale\":[[0.0,\"#0d0887\"],[0.1111111111111111,\"#46039f\"],[0.2222222222222222,\"#7201a8\"],[0.3333333333333333,\"#9c179e\"],[0.4444444444444444,\"#bd3786\"],[0.5555555555555556,\"#d8576b\"],[0.6666666666666666,\"#ed7953\"],[0.7777777777777778,\"#fb9f3a\"],[0.8888888888888888,\"#fdca26\"],[1.0,\"#f0f921\"]]}],\"heatmapgl\":[{\"type\":\"heatmapgl\",\"colorbar\":{\"outlinewidth\":0,\"ticks\":\"\"},\"colorscale\":[[0.0,\"#0d0887\"],[0.1111111111111111,\"#46039f\"],[0.2222222222222222,\"#7201a8\"],[0.3333333333333333,\"#9c179e\"],[0.4444444444444444,\"#bd3786\"],[0.5555555555555556,\"#d8576b\"],[0.6666666666666666,\"#ed7953\"],[0.7777777777777778,\"#fb9f3a\"],[0.8888888888888888,\"#fdca26\"],[1.0,\"#f0f921\"]]}],\"contourcarpet\":[{\"type\":\"contourcarpet\",\"colorbar\":{\"outlinewidth\":0,\"ticks\":\"\"}}],\"contour\":[{\"type\":\"contour\",\"colorbar\":{\"outlinewidth\":0,\"ticks\":\"\"},\"colorscale\":[[0.0,\"#0d0887\"],[0.1111111111111111,\"#46039f\"],[0.2222222222222222,\"#7201a8\"],[0.3333333333333333,\"#9c179e\"],[0.4444444444444444,\"#bd3786\"],[0.5555555555555556,\"#d8576b\"],[0.6666666666666666,\"#ed7953\"],[0.7777777777777778,\"#fb9f3a\"],[0.8888888888888888,\"#fdca26\"],[1.0,\"#f0f921\"]]}],\"surface\":[{\"type\":\"surface\",\"colorbar\":{\"outlinewidth\":0,\"ticks\":\"\"},\"colorscale\":[[0.0,\"#0d0887\"],[0.1111111111111111,\"#46039f\"],[0.2222222222222222,\"#7201a8\"],[0.3333333333333333,\"#9c179e\"],[0.4444444444444444,\"#bd3786\"],[0.5555555555555556,\"#d8576b\"],[0.6666666666666666,\"#ed7953\"],[0.7777777777777778,\"#fb9f3a\"],[0.8888888888888888,\"#fdca26\"],[1.0,\"#f0f921\"]]}],\"mesh3d\":[{\"type\":\"mesh3d\",\"colorbar\":{\"outlinewidth\":0,\"ticks\":\"\"}}],\"scatter\":[{\"fillpattern\":{\"fillmode\":\"overlay\",\"size\":10,\"solidity\":0.2},\"type\":\"scatter\"}],\"parcoords\":[{\"type\":\"parcoords\",\"line\":{\"colorbar\":{\"outlinewidth\":0,\"ticks\":\"\"}}}],\"scatterpolargl\":[{\"type\":\"scatterpolargl\",\"marker\":{\"colorbar\":{\"outlinewidth\":0,\"ticks\":\"\"}}}],\"bar\":[{\"error_x\":{\"color\":\"#2a3f5f\"},\"error_y\":{\"color\":\"#2a3f5f\"},\"marker\":{\"line\":{\"color\":\"#E5ECF6\",\"width\":0.5},\"pattern\":{\"fillmode\":\"overlay\",\"size\":10,\"solidity\":0.2}},\"type\":\"bar\"}],\"scattergeo\":[{\"type\":\"scattergeo\",\"marker\":{\"colorbar\":{\"outlinewidth\":0,\"ticks\":\"\"}}}],\"scatterpolar\":[{\"type\":\"scatterpolar\",\"marker\":{\"colorbar\":{\"outlinewidth\":0,\"ticks\":\"\"}}}],\"histogram\":[{\"marker\":{\"pattern\":{\"fillmode\":\"overlay\",\"size\":10,\"solidity\":0.2}},\"type\":\"histogram\"}],\"scattergl\":[{\"type\":\"scattergl\",\"marker\":{\"colorbar\":{\"outlinewidth\":0,\"ticks\":\"\"}}}],\"scatter3d\":[{\"type\":\"scatter3d\",\"line\":{\"colorbar\":{\"outlinewidth\":0,\"ticks\":\"\"}},\"marker\":{\"colorbar\":{\"outlinewidth\":0,\"ticks\":\"\"}}}],\"scattermapbox\":[{\"type\":\"scattermapbox\",\"marker\":{\"colorbar\":{\"outlinewidth\":0,\"ticks\":\"\"}}}],\"scatterternary\":[{\"type\":\"scatterternary\",\"marker\":{\"colorbar\":{\"outlinewidth\":0,\"ticks\":\"\"}}}],\"scattercarpet\":[{\"type\":\"scattercarpet\",\"marker\":{\"colorbar\":{\"outlinewidth\":0,\"ticks\":\"\"}}}],\"carpet\":[{\"aaxis\":{\"endlinecolor\":\"#2a3f5f\",\"gridcolor\":\"white\",\"linecolor\":\"white\",\"minorgridcolor\":\"white\",\"startlinecolor\":\"#2a3f5f\"},\"baxis\":{\"endlinecolor\":\"#2a3f5f\",\"gridcolor\":\"white\",\"linecolor\":\"white\",\"minorgridcolor\":\"white\",\"startlinecolor\":\"#2a3f5f\"},\"type\":\"carpet\"}],\"table\":[{\"cells\":{\"fill\":{\"color\":\"#EBF0F8\"},\"line\":{\"color\":\"white\"}},\"header\":{\"fill\":{\"color\":\"#C8D4E3\"},\"line\":{\"color\":\"white\"}},\"type\":\"table\"}],\"barpolar\":[{\"marker\":{\"line\":{\"color\":\"#E5ECF6\",\"width\":0.5},\"pattern\":{\"fillmode\":\"overlay\",\"size\":10,\"solidity\":0.2}},\"type\":\"barpolar\"}],\"pie\":[{\"automargin\":true,\"type\":\"pie\"}]},\"layout\":{\"autotypenumbers\":\"strict\",\"colorway\":[\"#636efa\",\"#EF553B\",\"#00cc96\",\"#ab63fa\",\"#FFA15A\",\"#19d3f3\",\"#FF6692\",\"#B6E880\",\"#FF97FF\",\"#FECB52\"],\"font\":{\"color\":\"#2a3f5f\"},\"hovermode\":\"closest\",\"hoverlabel\":{\"align\":\"left\"},\"paper_bgcolor\":\"white\",\"plot_bgcolor\":\"#E5ECF6\",\"polar\":{\"bgcolor\":\"#E5ECF6\",\"angularaxis\":{\"gridcolor\":\"white\",\"linecolor\":\"white\",\"ticks\":\"\"},\"radialaxis\":{\"gridcolor\":\"white\",\"linecolor\":\"white\",\"ticks\":\"\"}},\"ternary\":{\"bgcolor\":\"#E5ECF6\",\"aaxis\":{\"gridcolor\":\"white\",\"linecolor\":\"white\",\"ticks\":\"\"},\"baxis\":{\"gridcolor\":\"white\",\"linecolor\":\"white\",\"ticks\":\"\"},\"caxis\":{\"gridcolor\":\"white\",\"linecolor\":\"white\",\"ticks\":\"\"}},\"coloraxis\":{\"colorbar\":{\"outlinewidth\":0,\"ticks\":\"\"}},\"colorscale\":{\"sequential\":[[0.0,\"#0d0887\"],[0.1111111111111111,\"#46039f\"],[0.2222222222222222,\"#7201a8\"],[0.3333333333333333,\"#9c179e\"],[0.4444444444444444,\"#bd3786\"],[0.5555555555555556,\"#d8576b\"],[0.6666666666666666,\"#ed7953\"],[0.7777777777777778,\"#fb9f3a\"],[0.8888888888888888,\"#fdca26\"],[1.0,\"#f0f921\"]],\"sequentialminus\":[[0.0,\"#0d0887\"],[0.1111111111111111,\"#46039f\"],[0.2222222222222222,\"#7201a8\"],[0.3333333333333333,\"#9c179e\"],[0.4444444444444444,\"#bd3786\"],[0.5555555555555556,\"#d8576b\"],[0.6666666666666666,\"#ed7953\"],[0.7777777777777778,\"#fb9f3a\"],[0.8888888888888888,\"#fdca26\"],[1.0,\"#f0f921\"]],\"diverging\":[[0,\"#8e0152\"],[0.1,\"#c51b7d\"],[0.2,\"#de77ae\"],[0.3,\"#f1b6da\"],[0.4,\"#fde0ef\"],[0.5,\"#f7f7f7\"],[0.6,\"#e6f5d0\"],[0.7,\"#b8e186\"],[0.8,\"#7fbc41\"],[0.9,\"#4d9221\"],[1,\"#276419\"]]},\"xaxis\":{\"gridcolor\":\"white\",\"linecolor\":\"white\",\"ticks\":\"\",\"title\":{\"standoff\":15},\"zerolinecolor\":\"white\",\"automargin\":true,\"zerolinewidth\":2},\"yaxis\":{\"gridcolor\":\"white\",\"linecolor\":\"white\",\"ticks\":\"\",\"title\":{\"standoff\":15},\"zerolinecolor\":\"white\",\"automargin\":true,\"zerolinewidth\":2},\"scene\":{\"xaxis\":{\"backgroundcolor\":\"#E5ECF6\",\"gridcolor\":\"white\",\"linecolor\":\"white\",\"showbackground\":true,\"ticks\":\"\",\"zerolinecolor\":\"white\",\"gridwidth\":2},\"yaxis\":{\"backgroundcolor\":\"#E5ECF6\",\"gridcolor\":\"white\",\"linecolor\":\"white\",\"showbackground\":true,\"ticks\":\"\",\"zerolinecolor\":\"white\",\"gridwidth\":2},\"zaxis\":{\"backgroundcolor\":\"#E5ECF6\",\"gridcolor\":\"white\",\"linecolor\":\"white\",\"showbackground\":true,\"ticks\":\"\",\"zerolinecolor\":\"white\",\"gridwidth\":2}},\"shapedefaults\":{\"line\":{\"color\":\"#2a3f5f\"}},\"annotationdefaults\":{\"arrowcolor\":\"#2a3f5f\",\"arrowhead\":0,\"arrowwidth\":1},\"geo\":{\"bgcolor\":\"white\",\"landcolor\":\"#E5ECF6\",\"subunitcolor\":\"white\",\"showland\":true,\"showlakes\":true,\"lakecolor\":\"white\"},\"title\":{\"x\":0.05},\"mapbox\":{\"style\":\"light\"}}},\"xaxis\":{\"anchor\":\"y\",\"domain\":[0.0,1.0],\"title\":{\"text\":\"Feature\"}},\"yaxis\":{\"anchor\":\"x\",\"domain\":[0.0,1.0],\"title\":{\"text\":\"Importance\"}},\"legend\":{\"tracegroupgap\":0},\"margin\":{\"t\":60},\"barmode\":\"relative\"},                        {\"responsive\": true}                    ).then(function(){\n",
       "                            \n",
       "var gd = document.getElementById('e9cdf406-cd9c-46b7-bdac-9644fb4ec281');\n",
       "var x = new MutationObserver(function (mutations, observer) {{\n",
       "        var display = window.getComputedStyle(gd).display;\n",
       "        if (!display || display === 'none') {{\n",
       "            console.log([gd, 'removed!']);\n",
       "            Plotly.purge(gd);\n",
       "            observer.disconnect();\n",
       "        }}\n",
       "}});\n",
       "\n",
       "// Listen for the removal of the full notebook cells\n",
       "var notebookContainer = gd.closest('#notebook-container');\n",
       "if (notebookContainer) {{\n",
       "    x.observe(notebookContainer, {childList: true});\n",
       "}}\n",
       "\n",
       "// Listen for the clearing of the current output cell\n",
       "var outputEl = gd.closest('.output');\n",
       "if (outputEl) {{\n",
       "    x.observe(outputEl, {childList: true});\n",
       "}}\n",
       "\n",
       "                        })                };                });            </script>        </div>"
      ]
     },
     "metadata": {},
     "output_type": "display_data"
    }
   ],
   "source": [
    "# Get the feature importances\n",
    "importances = regressor.feature_importances_\n",
    "\n",
    "# Sort the importance scores in ascending order\n",
    "indices = np.argsort(importances)\n",
    "\n",
    "# Get the column names in the correct order\n",
    "cols = X_train.columns[indices]\n",
    "\n",
    "# Get the top 10 most important features\n",
    "top_10 = cols[-10:]\n",
    "\n",
    "# Create a bar chart using the px.bar() function\n",
    "fig = px.bar(\n",
    "    x=top_10,\n",
    "    y=importances[indices][-10:],\n",
    "    labels={'x': 'Feature', 'y': 'Importance'}\n",
    ")\n",
    "\n",
    "# Save the figure as an HTML file\n",
    "pio.write_html(fig, file='interactive_plot_htmls/ranked_top_10_importance_1999_2021.html')\n",
    "\n",
    "# Show the plot\n",
    "fig.show()\n"
   ]
  },
  {
   "cell_type": "code",
   "execution_count": 20,
   "id": "554132a1-0cac-4e8d-8882-404e64173942",
   "metadata": {},
   "outputs": [
    {
     "name": "stdout",
     "output_type": "stream",
     "text": [
      "1. % of Health workers: 0.3131324516208583\n",
      "2. Dwellings per hectare: 0.2158486800578927\n",
      "3. Life expectancy of men at 65: 0.12359731072209178\n",
      "4. % of Education workers: 0.04781248344860278\n",
      "5. % of Accomodation and food service activities workers: 0.04138333192222088\n",
      "6. % of Manufacturing workers: 0.03447704184669269\n",
      "7. Population per hectare: 0.02809849989424336\n",
      "8. % of Transportation and Storage workers: 0.016652689167924666\n",
      "9. % of Public Admin and defence workers: 0.015817103974361816\n",
      "10. % of Other services workers: 0.012992578149029727\n"
     ]
    }
   ],
   "source": [
    "for i, feature in enumerate(reversed(top_10)):\n",
    "    print(f\"{i+1}. {feature}: {importances[indices][-i-1]}\")\n"
   ]
  },
  {
   "cell_type": "code",
   "execution_count": null,
   "id": "25640199-004b-45cc-a812-0528ac77e07e",
   "metadata": {},
   "outputs": [],
   "source": []
  }
 ],
 "metadata": {
  "kernelspec": {
   "display_name": "Python 3 (ipykernel)",
   "language": "python",
   "name": "python3"
  },
  "language_info": {
   "codemirror_mode": {
    "name": "ipython",
    "version": 3
   },
   "file_extension": ".py",
   "mimetype": "text/x-python",
   "name": "python",
   "nbconvert_exporter": "python",
   "pygments_lexer": "ipython3",
   "version": "3.9.12"
  }
 },
 "nbformat": 4,
 "nbformat_minor": 5
}
